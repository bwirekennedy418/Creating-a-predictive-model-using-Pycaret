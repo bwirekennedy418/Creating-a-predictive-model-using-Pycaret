{
 "cells": [
  {
   "cell_type": "code",
   "execution_count": 44,
   "id": "68ef6b1c",
   "metadata": {},
   "outputs": [],
   "source": [
    "import pandas as pd\n",
    "import numpy as np\n",
    "import matplotlib.pyplot as plt\n",
    "import seaborn as sns\n",
    "import pycaret"
   ]
  },
  {
   "cell_type": "code",
   "execution_count": 45,
   "id": "466e4e27",
   "metadata": {},
   "outputs": [],
   "source": [
    "df = pd.read_excel(\"C:\\pydatafiles\\Data for Diabetes and Hypertension enrolled.xlsx\")"
   ]
  },
  {
   "cell_type": "code",
   "execution_count": 46,
   "id": "181c106b",
   "metadata": {},
   "outputs": [
    {
     "data": {
      "text/html": [
       "<div>\n",
       "<style scoped>\n",
       "    .dataframe tbody tr th:only-of-type {\n",
       "        vertical-align: middle;\n",
       "    }\n",
       "\n",
       "    .dataframe tbody tr th {\n",
       "        vertical-align: top;\n",
       "    }\n",
       "\n",
       "    .dataframe thead th {\n",
       "        text-align: right;\n",
       "    }\n",
       "</style>\n",
       "<table border=\"1\" class=\"dataframe\">\n",
       "  <thead>\n",
       "    <tr style=\"text-align: right;\">\n",
       "      <th></th>\n",
       "      <th>sex</th>\n",
       "      <th>Age</th>\n",
       "      <th>Location</th>\n",
       "      <th>Frequency of clinic visit</th>\n",
       "      <th>Education</th>\n",
       "      <th>Weight</th>\n",
       "      <th>BMI</th>\n",
       "      <th>BP Diastolic</th>\n",
       "      <th>BP Systolic</th>\n",
       "      <th>Diagnosis</th>\n",
       "    </tr>\n",
       "  </thead>\n",
       "  <tbody>\n",
       "    <tr>\n",
       "      <th>0</th>\n",
       "      <td>Male</td>\n",
       "      <td>65</td>\n",
       "      <td>makueni</td>\n",
       "      <td>1</td>\n",
       "      <td>yes</td>\n",
       "      <td>85.0</td>\n",
       "      <td>31.22</td>\n",
       "      <td>80</td>\n",
       "      <td>125</td>\n",
       "      <td>HTN,DM</td>\n",
       "    </tr>\n",
       "    <tr>\n",
       "      <th>1</th>\n",
       "      <td>Female</td>\n",
       "      <td>68</td>\n",
       "      <td>makueni</td>\n",
       "      <td>0</td>\n",
       "      <td>no</td>\n",
       "      <td>67.0</td>\n",
       "      <td>24.60</td>\n",
       "      <td>88</td>\n",
       "      <td>129</td>\n",
       "      <td>HTN,DM</td>\n",
       "    </tr>\n",
       "    <tr>\n",
       "      <th>2</th>\n",
       "      <td>Male</td>\n",
       "      <td>70</td>\n",
       "      <td>makueni</td>\n",
       "      <td>0</td>\n",
       "      <td>yes</td>\n",
       "      <td>70.0</td>\n",
       "      <td>24.80</td>\n",
       "      <td>79</td>\n",
       "      <td>130</td>\n",
       "      <td>HTN,DM</td>\n",
       "    </tr>\n",
       "    <tr>\n",
       "      <th>3</th>\n",
       "      <td>Female</td>\n",
       "      <td>41</td>\n",
       "      <td>kibwezi west</td>\n",
       "      <td>0</td>\n",
       "      <td>yes</td>\n",
       "      <td>82.0</td>\n",
       "      <td>30.11</td>\n",
       "      <td>73</td>\n",
       "      <td>112</td>\n",
       "      <td>HTN,DM</td>\n",
       "    </tr>\n",
       "    <tr>\n",
       "      <th>4</th>\n",
       "      <td>Female</td>\n",
       "      <td>32</td>\n",
       "      <td>makueni</td>\n",
       "      <td>0</td>\n",
       "      <td>yes</td>\n",
       "      <td>75.0</td>\n",
       "      <td>31.62</td>\n",
       "      <td>76</td>\n",
       "      <td>105</td>\n",
       "      <td>DM</td>\n",
       "    </tr>\n",
       "  </tbody>\n",
       "</table>\n",
       "</div>"
      ],
      "text/plain": [
       "      sex  Age      Location  Frequency of clinic visit Education  Weight  \\\n",
       "0    Male   65       makueni                          1       yes    85.0   \n",
       "1  Female   68       makueni                          0        no    67.0   \n",
       "2    Male   70       makueni                          0       yes    70.0   \n",
       "3  Female   41  kibwezi west                          0       yes    82.0   \n",
       "4  Female   32       makueni                          0       yes    75.0   \n",
       "\n",
       "     BMI  BP Diastolic  BP Systolic Diagnosis  \n",
       "0  31.22            80          125    HTN,DM  \n",
       "1  24.60            88          129    HTN,DM  \n",
       "2  24.80            79          130    HTN,DM  \n",
       "3  30.11            73          112    HTN,DM  \n",
       "4  31.62            76          105        DM  "
      ]
     },
     "execution_count": 46,
     "metadata": {},
     "output_type": "execute_result"
    }
   ],
   "source": [
    "df.head()"
   ]
  },
  {
   "cell_type": "code",
   "execution_count": 47,
   "id": "de48c5de",
   "metadata": {},
   "outputs": [
    {
     "data": {
      "text/plain": [
       "Index(['sex', 'Age', 'Location', 'Frequency of clinic visit', 'Education',\n",
       "       'Weight', 'BMI', 'BP Diastolic', 'BP Systolic', 'Diagnosis'],\n",
       "      dtype='object')"
      ]
     },
     "execution_count": 47,
     "metadata": {},
     "output_type": "execute_result"
    }
   ],
   "source": [
    "df.columns"
   ]
  },
  {
   "cell_type": "code",
   "execution_count": 48,
   "id": "1961d16c",
   "metadata": {},
   "outputs": [
    {
     "name": "stdout",
     "output_type": "stream",
     "text": [
      "(1487, 10)\n"
     ]
    }
   ],
   "source": [
    "print(df.shape)"
   ]
  },
  {
   "cell_type": "code",
   "execution_count": 49,
   "id": "771402af",
   "metadata": {},
   "outputs": [
    {
     "data": {
      "text/plain": [
       "sex                          0\n",
       "Age                          0\n",
       "Location                     0\n",
       "Frequency of clinic visit    0\n",
       "Education                    0\n",
       "Weight                       0\n",
       "BMI                          0\n",
       "BP Diastolic                 0\n",
       "BP Systolic                  0\n",
       "Diagnosis                    0\n",
       "dtype: int64"
      ]
     },
     "execution_count": 49,
     "metadata": {},
     "output_type": "execute_result"
    }
   ],
   "source": [
    "df.isnull().sum()"
   ]
  },
  {
   "cell_type": "code",
   "execution_count": 50,
   "id": "e98894ff",
   "metadata": {},
   "outputs": [],
   "source": [
    "df1=df.dropna()"
   ]
  },
  {
   "cell_type": "code",
   "execution_count": 51,
   "id": "3ea0cceb",
   "metadata": {},
   "outputs": [
    {
     "data": {
      "text/html": [
       "<div>\n",
       "<style scoped>\n",
       "    .dataframe tbody tr th:only-of-type {\n",
       "        vertical-align: middle;\n",
       "    }\n",
       "\n",
       "    .dataframe tbody tr th {\n",
       "        vertical-align: top;\n",
       "    }\n",
       "\n",
       "    .dataframe thead th {\n",
       "        text-align: right;\n",
       "    }\n",
       "</style>\n",
       "<table border=\"1\" class=\"dataframe\">\n",
       "  <thead>\n",
       "    <tr style=\"text-align: right;\">\n",
       "      <th></th>\n",
       "      <th>sex</th>\n",
       "      <th>Age</th>\n",
       "      <th>Location</th>\n",
       "      <th>Frequency of clinic visit</th>\n",
       "      <th>Education</th>\n",
       "      <th>Weight</th>\n",
       "      <th>BMI</th>\n",
       "      <th>BP Diastolic</th>\n",
       "      <th>BP Systolic</th>\n",
       "      <th>Diagnosis</th>\n",
       "    </tr>\n",
       "  </thead>\n",
       "  <tbody>\n",
       "    <tr>\n",
       "      <th>0</th>\n",
       "      <td>Male</td>\n",
       "      <td>65</td>\n",
       "      <td>makueni</td>\n",
       "      <td>1</td>\n",
       "      <td>yes</td>\n",
       "      <td>85.0</td>\n",
       "      <td>31.22</td>\n",
       "      <td>80</td>\n",
       "      <td>125</td>\n",
       "      <td>HTN,DM</td>\n",
       "    </tr>\n",
       "    <tr>\n",
       "      <th>1</th>\n",
       "      <td>Female</td>\n",
       "      <td>68</td>\n",
       "      <td>makueni</td>\n",
       "      <td>0</td>\n",
       "      <td>no</td>\n",
       "      <td>67.0</td>\n",
       "      <td>24.60</td>\n",
       "      <td>88</td>\n",
       "      <td>129</td>\n",
       "      <td>HTN,DM</td>\n",
       "    </tr>\n",
       "    <tr>\n",
       "      <th>2</th>\n",
       "      <td>Male</td>\n",
       "      <td>70</td>\n",
       "      <td>makueni</td>\n",
       "      <td>0</td>\n",
       "      <td>yes</td>\n",
       "      <td>70.0</td>\n",
       "      <td>24.80</td>\n",
       "      <td>79</td>\n",
       "      <td>130</td>\n",
       "      <td>HTN,DM</td>\n",
       "    </tr>\n",
       "    <tr>\n",
       "      <th>3</th>\n",
       "      <td>Female</td>\n",
       "      <td>41</td>\n",
       "      <td>kibwezi west</td>\n",
       "      <td>0</td>\n",
       "      <td>yes</td>\n",
       "      <td>82.0</td>\n",
       "      <td>30.11</td>\n",
       "      <td>73</td>\n",
       "      <td>112</td>\n",
       "      <td>HTN,DM</td>\n",
       "    </tr>\n",
       "    <tr>\n",
       "      <th>4</th>\n",
       "      <td>Female</td>\n",
       "      <td>32</td>\n",
       "      <td>makueni</td>\n",
       "      <td>0</td>\n",
       "      <td>yes</td>\n",
       "      <td>75.0</td>\n",
       "      <td>31.62</td>\n",
       "      <td>76</td>\n",
       "      <td>105</td>\n",
       "      <td>DM</td>\n",
       "    </tr>\n",
       "    <tr>\n",
       "      <th>...</th>\n",
       "      <td>...</td>\n",
       "      <td>...</td>\n",
       "      <td>...</td>\n",
       "      <td>...</td>\n",
       "      <td>...</td>\n",
       "      <td>...</td>\n",
       "      <td>...</td>\n",
       "      <td>...</td>\n",
       "      <td>...</td>\n",
       "      <td>...</td>\n",
       "    </tr>\n",
       "    <tr>\n",
       "      <th>1482</th>\n",
       "      <td>Female</td>\n",
       "      <td>54</td>\n",
       "      <td>Ivmbooni</td>\n",
       "      <td>0</td>\n",
       "      <td>yes</td>\n",
       "      <td>63.5</td>\n",
       "      <td>20.49</td>\n",
       "      <td>96</td>\n",
       "      <td>121</td>\n",
       "      <td>HTN</td>\n",
       "    </tr>\n",
       "    <tr>\n",
       "      <th>1483</th>\n",
       "      <td>Female</td>\n",
       "      <td>48</td>\n",
       "      <td>Imbooni</td>\n",
       "      <td>0</td>\n",
       "      <td>yes</td>\n",
       "      <td>91.0</td>\n",
       "      <td>36.45</td>\n",
       "      <td>80</td>\n",
       "      <td>128</td>\n",
       "      <td>HTN</td>\n",
       "    </tr>\n",
       "    <tr>\n",
       "      <th>1484</th>\n",
       "      <td>Female</td>\n",
       "      <td>38</td>\n",
       "      <td>Mumbeeni</td>\n",
       "      <td>1</td>\n",
       "      <td>yes</td>\n",
       "      <td>56.0</td>\n",
       "      <td>22.43</td>\n",
       "      <td>107</td>\n",
       "      <td>177</td>\n",
       "      <td>HTN</td>\n",
       "    </tr>\n",
       "    <tr>\n",
       "      <th>1485</th>\n",
       "      <td>Female</td>\n",
       "      <td>71</td>\n",
       "      <td>Katunguni</td>\n",
       "      <td>0</td>\n",
       "      <td>no</td>\n",
       "      <td>51.0</td>\n",
       "      <td>23.92</td>\n",
       "      <td>66</td>\n",
       "      <td>126</td>\n",
       "      <td>HTN,DM</td>\n",
       "    </tr>\n",
       "    <tr>\n",
       "      <th>1486</th>\n",
       "      <td>Female</td>\n",
       "      <td>51</td>\n",
       "      <td>makueni primary</td>\n",
       "      <td>0</td>\n",
       "      <td>yes</td>\n",
       "      <td>67.0</td>\n",
       "      <td>27.53</td>\n",
       "      <td>91</td>\n",
       "      <td>145</td>\n",
       "      <td>HTN</td>\n",
       "    </tr>\n",
       "  </tbody>\n",
       "</table>\n",
       "<p>1487 rows × 10 columns</p>\n",
       "</div>"
      ],
      "text/plain": [
       "         sex  Age         Location  Frequency of clinic visit Education  \\\n",
       "0       Male   65          makueni                          1       yes   \n",
       "1     Female   68          makueni                          0        no   \n",
       "2       Male   70          makueni                          0       yes   \n",
       "3     Female   41     kibwezi west                          0       yes   \n",
       "4     Female   32          makueni                          0       yes   \n",
       "...      ...  ...              ...                        ...       ...   \n",
       "1482  Female   54         Ivmbooni                          0       yes   \n",
       "1483  Female   48          Imbooni                          0       yes   \n",
       "1484  Female   38         Mumbeeni                          1       yes   \n",
       "1485  Female   71        Katunguni                          0        no   \n",
       "1486  Female   51  makueni primary                          0       yes   \n",
       "\n",
       "      Weight    BMI  BP Diastolic  BP Systolic Diagnosis  \n",
       "0       85.0  31.22            80          125    HTN,DM  \n",
       "1       67.0  24.60            88          129    HTN,DM  \n",
       "2       70.0  24.80            79          130    HTN,DM  \n",
       "3       82.0  30.11            73          112    HTN,DM  \n",
       "4       75.0  31.62            76          105        DM  \n",
       "...      ...    ...           ...          ...       ...  \n",
       "1482    63.5  20.49            96          121       HTN  \n",
       "1483    91.0  36.45            80          128       HTN  \n",
       "1484    56.0  22.43           107          177       HTN  \n",
       "1485    51.0  23.92            66          126    HTN,DM  \n",
       "1486    67.0  27.53            91          145       HTN  \n",
       "\n",
       "[1487 rows x 10 columns]"
      ]
     },
     "execution_count": 51,
     "metadata": {},
     "output_type": "execute_result"
    }
   ],
   "source": [
    "df1"
   ]
  },
  {
   "cell_type": "code",
   "execution_count": 52,
   "id": "1b4d99a7",
   "metadata": {},
   "outputs": [
    {
     "data": {
      "text/plain": [
       "sex                          0\n",
       "Age                          0\n",
       "Location                     0\n",
       "Frequency of clinic visit    0\n",
       "Education                    0\n",
       "Weight                       0\n",
       "BMI                          0\n",
       "BP Diastolic                 0\n",
       "BP Systolic                  0\n",
       "Diagnosis                    0\n",
       "dtype: int64"
      ]
     },
     "execution_count": 52,
     "metadata": {},
     "output_type": "execute_result"
    }
   ],
   "source": [
    "df.isnull().sum()"
   ]
  },
  {
   "cell_type": "code",
   "execution_count": 53,
   "id": "6c322514",
   "metadata": {},
   "outputs": [
    {
     "data": {
      "text/plain": [
       "sex                           object\n",
       "Age                            int64\n",
       "Location                      object\n",
       "Frequency of clinic visit      int64\n",
       "Education                     object\n",
       "Weight                       float64\n",
       "BMI                          float64\n",
       "BP Diastolic                   int64\n",
       "BP Systolic                    int64\n",
       "Diagnosis                     object\n",
       "dtype: object"
      ]
     },
     "execution_count": 53,
     "metadata": {},
     "output_type": "execute_result"
    }
   ],
   "source": [
    "df.dtypes"
   ]
  },
  {
   "cell_type": "code",
   "execution_count": 54,
   "id": "2843d564",
   "metadata": {},
   "outputs": [
    {
     "name": "stdout",
     "output_type": "stream",
     "text": [
      "Unique values\n",
      " ['Male' 'Female']\n",
      "Value Counts\n",
      " Female    1052\n",
      "Male       435\n",
      "Name: sex, dtype: int64\n"
     ]
    },
    {
     "data": {
      "text/plain": [
       "<AxesSubplot:xlabel='sex', ylabel='count'>"
      ]
     },
     "execution_count": 54,
     "metadata": {},
     "output_type": "execute_result"
    },
    {
     "data": {
      "image/png": "[encoded data removed]",
      "text/plain": [
       "<Figure size 432x288 with 1 Axes>"
      ]
     },
     "metadata": {
      "needs_background": "light"
     },
     "output_type": "display_data"
    }
   ],
   "source": [
    "print('Unique values\\n',df['sex'].unique())\n",
    "print('Value Counts\\n',df['sex'].value_counts())\n",
    "# Above codes will help to give us information about it's unique values and count of each value.\n",
    "\n",
    "sns.countplot(data=df,x='sex')\n",
    "# Helps to plot a count plot which will help us to see count of values in each unique category.\n",
    "sns.countplot(data=df,x='sex',hue='Diagnosis')\n",
    "# This plot will help to analyze how sex will affect chances of Diagnosis/type of hypertension and Diabetes."
   ]
  },
  {
   "cell_type": "code",
   "execution_count": 55,
   "id": "50be3df7",
   "metadata": {},
   "outputs": [
    {
     "name": "stdout",
     "output_type": "stream",
     "text": [
      "Unique Value\n",
      " ['makueni' 'kibwezi west' 'kibwezi west kibwezi west' 'Kitande' 'makueni '\n",
      " 'Nthwani' 'kibwezi west kibwezi west ' 'kaiti ' 'kaiti' 'Kyemundu'\n",
      " 'Matiliku' 'Kathmbooni' 'makueni Nziu' 'mbooni' 'Yemulwa' 'Mumbuni'\n",
      " 'Kaiti' 'Katangini' 'Mbumbuni' 'Mithumo' 'Mukuyuni' 'Nthangu' 'Mangauni'\n",
      " 'Ngaa' 'Mbalani' 701664230 'mbooni mbooni' 'Kaumoni' 'Nzuuni' 'Unoa'\n",
      " 'Kivani' 'Ndauni' 'Ulilinzi' 'Kathos' 'Makueni' 'Kilala' 'Mituvu'\n",
      " 'Malivani' 'Sakai' 'Nziu' 'kibwezi east' 'kilomeuku' 'Kyamusoi'\n",
      " 'Kitumbai' 'Miangeni' 'Kilulini' 'Syandoo' 'Ngosini' 'Mathangathi'\n",
      " 'Kanyonga' 'Kalima' 'Kathun' 'Katoloni' 'Muthyoi' 'Kibwezi' 'Kilome'\n",
      " 'Kziti' 'Kinze' 'Mavindi I' 'Kavumbu' 'Yathui' 'makueniuhc'\n",
      " 'kibwezi west ' 'Ivani' 'Kamonyolo' 'Kikome' 'Kilalauhc' 'Kasambani'\n",
      " 'kilomeani' 'Mwisa' 'Kambooni' 'Kiluluini' 'Itumbule' 'Sinai' 'Ikaasu'\n",
      " 'Mathemba' 'Yithungu' 'Ivmbooni' 'Kinyau' 'Kiangeni' 'Silanga' 'Katumbua'\n",
      " 'kilomeni' 'Kithaayoni' 'Kisayani' 'Katunguni' 'Ngoi' 'Muuani' 'Kyao'\n",
      " 'Mbokani' 'Kyakalinga' 'Kivandini' 'Mbuvo' 'Kivumbuni' 'Makutano Kaseve'\n",
      " 'Nguku 1' 'kilome' 'Kitandi Primay School' 'Muthumuni' 'Mithumuni'\n",
      " 'Mithumoni' 'Kithumba' 'makueni  ' 'Kaliini ' 'Mbeletu' 'Kitende'\n",
      " 'Kathatu' 'Kitandi' 'Kawala' 'Ndulu' 'makuenihc' 'Kaliini hc' 'Kalaani'\n",
      " 'Kyumwa' 'Uuni' 'Ikangavya' 'Kyeeko' 'Makalani' 'Mwanyani' 'Kimeeni'\n",
      " 'Utaati' 'Kitundu' 'Matiliku ' 'Welfare' 'Kithanyoni' 'Watuka' 'Tawa'\n",
      " 'Kambamawe' 'Kamunyolo' 'Ngakaa' 'Ngiluni' 'Matithini' 'Muambani'\n",
      " 'Kyemole' 'Mavmbooni' 'Kibauni' 'Kilisa' 'Kalongo' 'kilomeva' 'Thandeni'\n",
      " 'Kambi' 'Ithumba' 'Salama' 'Kwa Kavisi' 'kilomeusini' 'Muuni'\n",
      " 'Mwasangombe' 'Mulangoni' 'Kalumbi' 'matiliku' 'Maumi' 'mbooniuhc'\n",
      " 'Malunda' 'Kanzokea' 'Kathulumbi' 'Kukuni' 'Matheani' 'Kyuasini'\n",
      " 'Kyangela' 'kibwezi westma' 'Kithangathini' 'Mulaani' 'Mungethele'\n",
      " 'Nditiwa' 'Nthongoni' 'Kavila' 'Yemakueni' 'Wota' 'Miambwani' 'Kyakogo'\n",
      " 'Munyalo' 'Munathi' 'Imbooni' 'Kitoyoni' 'Kwa Kathoka' 'Syatu'\n",
      " 'Kathonweni' 'kilomeku' 'Ilumani' 'Kithaathaini' 'Mindali' 'Makutano'\n",
      " 'Kinyao' 'Kyusyani' 'Nzeeni' 'Maviame' 'kibwezi westni' 'Kinzee'\n",
      " 'kilomemoni' 'Ngutwa' 'Ikuua' 'Kingutheni' 'Kambi Mawe' 'Kikandu'\n",
      " 'Masaani' 'Ngoni' 'Mwala' 'kaitiuhc' 'Mwaani' 'Katitu' 'Itandi'\n",
      " 'Mikameni' 'Kiatine' 'Miseke' 'kilomesini' 'Mukolekya' 'Kangondi'\n",
      " 'Kiteei' 'Kiaoni' 'Ngomeni' 'Soko Muyo' 'Mandoi' 'Katothya' 'Kathamboni'\n",
      " 'kilomenduan' 'Uiini' 'Kamuithi' 'Nguku1' 'Uuini' 'Miski' 'Mumbeeni'\n",
      " 'makueni primary']\n",
      "Value Counts\n",
      " makueni            654\n",
      "makueni            164\n",
      "mbooni              68\n",
      "kibwezi west        61\n",
      "kaiti               36\n",
      "                  ... \n",
      "Ngakaa               1\n",
      "Kambamawe            1\n",
      "Tawa                 1\n",
      "Kithanyoni           1\n",
      "makueni primary      1\n",
      "Name: Location, Length: 222, dtype: int64\n"
     ]
    },
    {
     "data": {
      "text/plain": [
       "<AxesSubplot:xlabel='Location', ylabel='count'>"
      ]
     },
     "execution_count": 55,
     "metadata": {},
     "output_type": "execute_result"
    },
    {
     "data": {
      "image/png": "[encoded data removed]",
      "text/plain": [
       "<Figure size 432x288 with 1 Axes>"
      ]
     },
     "metadata": {
      "needs_background": "light"
     },
     "output_type": "display_data"
    }
   ],
   "source": [
    "print('Unique Value\\n',df['Location'].unique())\n",
    "print('Value Counts\\n',df['Location'].value_counts())\n",
    "# Above code will return unique value for Location/cluster/ward/village name attribute and its value counts\n",
    "sns.countplot(data=df,x='Location')\n",
    "#Will plot a counter plot of variable Location/Cluster/Ward/Village. "
   ]
  },
  {
   "cell_type": "code",
   "execution_count": 56,
   "id": "182033bb",
   "metadata": {},
   "outputs": [
    {
     "name": "stdout",
     "output_type": "stream",
     "text": [
      "Unique Value\n",
      " ['yes' 'no' 'Refused']\n",
      "Value Counts\n",
      " yes        1170\n",
      "no          315\n",
      "Refused       2\n",
      "Name: Education, dtype: int64\n"
     ]
    },
    {
     "data": {
      "text/plain": [
       "<AxesSubplot:xlabel='Education', ylabel='count'>"
      ]
     },
     "execution_count": 56,
     "metadata": {},
     "output_type": "execute_result"
    },
    {
     "data": {
      "image/png": "[encoded data removed]",
      "text/plain": [
       "<Figure size 432x288 with 1 Axes>"
      ]
     },
     "metadata": {
      "needs_background": "light"
     },
     "output_type": "display_data"
    }
   ],
   "source": [
    "print('Unique Value\\n',df['Education'].unique())\n",
    "print('Value Counts\\n',df['Education'].value_counts())\n",
    "# Above code will return unique value for Education level attribute and its value counts\n",
    "sns.countplot(data=df,x='Education')\n",
    "# Will plot a counter plot of variable Location/Cluster/Ward/Village. "
   ]
  },
  {
   "cell_type": "code",
   "execution_count": 57,
   "id": "4c127b68",
   "metadata": {},
   "outputs": [
    {
     "name": "stdout",
     "output_type": "stream",
     "text": [
      "Unique Value\n",
      " [1 0 2 3 5]\n",
      "Value Counts\n",
      " 0    1381\n",
      "1      74\n",
      "2      21\n",
      "3       9\n",
      "5       2\n",
      "Name: Frequency of clinic visit, dtype: int64\n"
     ]
    },
    {
     "data": {
      "text/plain": [
       "<AxesSubplot:xlabel='Frequency of clinic visit', ylabel='count'>"
      ]
     },
     "execution_count": 57,
     "metadata": {},
     "output_type": "execute_result"
    },
    {
     "data": {
      "image/png": "[encoded data removed]",
      "text/plain": [
       "<Figure size 432x288 with 1 Axes>"
      ]
     },
     "metadata": {
      "needs_background": "light"
     },
     "output_type": "display_data"
    }
   ],
   "source": [
    "print('Unique Value\\n',df['Frequency of clinic visit'].unique())\n",
    "print('Value Counts\\n',df['Frequency of clinic visit'].value_counts())\n",
    "# Above code will return unique values of attributes and its count\n",
    "sns.countplot(data=df,x='Frequency of clinic visit')\n",
    "# Above code will create a count plot\n",
    "sns.countplot(data=df,x='Frequency of clinic visit',hue='Diagnosis')\n",
    "# Above code will create a count plot with respect to Diagnosis/type of hypertension and Diabetes"
   ]
  },
  {
   "cell_type": "code",
   "execution_count": 58,
   "id": "b2ee19e1",
   "metadata": {},
   "outputs": [
    {
     "name": "stdout",
     "output_type": "stream",
     "text": [
      "Unique Values\n",
      " [ 85.   67.   70.   82.   75.   64.   72.   58.   80.   60.   54.   78.\n",
      "  59.   63.   81.9  68.   53.   65.   40.   15.   50.   57.   87.   79.\n",
      "  74.   52.9 101.   73.   76.   71.   45.   42.   62.   69.   52.  100.\n",
      "  66.   51.   61.   96.   29.   94.   66.8  83.   77.   48.   44.   56.\n",
      "  55.   86.   88.   66.6  68.9  69.4  81.  104.   41.5  66.7  84.7  68.1\n",
      "  65.6  32.   47.   43.4  90.   75.5  46.   50.7  57.6  93.   57.5  84.\n",
      "  65.5  63.8  66.5  63.5  49.3  84.5  71.4  56.8  98.   64.8  56.4  68.5\n",
      "  76.1  78.8 123.   97.7  75.8  65.7  75.6  38.2  34.  120.  102.   46.5\n",
      "  45.5  59.5  92.   49.   91.   43.   35.   30.  108.   39.  153.   89.\n",
      "  47.3 105.   49.5  64.2 165.   77.4  53.1  69.5  89.1  41.   38.   37.\n",
      "  61.5  71.9  65.3  53.6  54.3  74.3 119.   61.3  50.2  26.   75.1  95.\n",
      "  62.5  62.1  50.9  48.7  74.1 111.  110.   40.5  60.2  57.2 107. ]\n",
      "Value Counts\n",
      " 60.0     148\n",
      "65.0     120\n",
      "56.0      75\n",
      "63.0      59\n",
      "62.0      56\n",
      "        ... \n",
      "75.8       1\n",
      "65.7       1\n",
      "75.6       1\n",
      "38.2       1\n",
      "107.0      1\n",
      "Name: Weight, Length: 143, dtype: int64\n"
     ]
    },
    {
     "data": {
      "text/plain": [
       "<AxesSubplot:xlabel='Weight', ylabel='count'>"
      ]
     },
     "execution_count": 58,
     "metadata": {},
     "output_type": "execute_result"
    },
    {
     "data": {
      "image/png": "[encoded data removed]",
      "text/plain": [
       "<Figure size 432x288 with 1 Axes>"
      ]
     },
     "metadata": {
      "needs_background": "light"
     },
     "output_type": "display_data"
    }
   ],
   "source": [
    "print('Unique Values\\n',df['Weight'].unique())\n",
    "print(\"Value Counts\\n\",df['Weight'].value_counts())\n",
    "# Above code will return unique values of variable and its count\n",
    "sns.countplot(data=df,x='Weight')\n",
    "# This will create a counter plot\n",
    "sns.countplot(data=df,x='Weight',hue='Diagnosis')\n",
    "# Weight with respect to Diagnosis/type of hypertension and Diabetes"
   ]
  },
  {
   "cell_type": "code",
   "execution_count": 59,
   "id": "c9f80192",
   "metadata": {},
   "outputs": [
    {
     "data": {
      "text/plain": [
       "<AxesSubplot:xlabel='Diagnosis', ylabel='BMI'>"
      ]
     },
     "execution_count": 59,
     "metadata": {},
     "output_type": "execute_result"
    },
    {
     "data": {
      "image/png": "[encoded data removed]",
      "text/plain": [
       "<Figure size 360x360 with 1 Axes>"
      ]
     },
     "metadata": {
      "needs_background": "light"
     },
     "output_type": "display_data"
    }
   ],
   "source": [
    "df['BMI'].nunique()\n",
    "# Number of unique values\n",
    "sns.displot(df['BMI'])\n",
    "# Distribution of avg_glucose_level\n",
    "sns.boxplot(data=df,x='Diagnosis',y='BMI')\n",
    "# BMI and Diagnosis/type of hypertension and Diabetes"
   ]
  },
  {
   "cell_type": "code",
   "execution_count": 60,
   "id": "f7e59b7d",
   "metadata": {},
   "outputs": [
    {
     "data": {
      "text/plain": [
       "<seaborn.axisgrid.FacetGrid at 0x203c3758070>"
      ]
     },
     "execution_count": 60,
     "metadata": {},
     "output_type": "execute_result"
    },
    {
     "data": {
      "image/png": "[encoded data removed]",
      "text/plain": [
       "<Figure size 360x360 with 1 Axes>"
      ]
     },
     "metadata": {
      "needs_background": "light"
     },
     "output_type": "display_data"
    }
   ],
   "source": [
    "df['BMI'].isna().sum()\n",
    "# Returns number null values\n",
    "df['BMI'].fillna(df['BMI'].mean(),inplace=True)\n",
    "# Filling null values with average value\n",
    "df['BMI'].nunique()\n",
    "# Returns number of unique values in that attribute\n",
    "sns.displot(df['BMI'])\n",
    "# Distribution of bmi"
   ]
  },
  {
   "cell_type": "code",
   "execution_count": 61,
   "id": "1150c4b1",
   "metadata": {},
   "outputs": [
    {
     "name": "stdout",
     "output_type": "stream",
     "text": [
      "Unique Values\n",
      " [125 129 130 112 105 121 102 131 145 152 146 136 163 140 166 123 139 119\n",
      " 117 106 178  86 150 126 133  75 122 116 132  85 134 179 110 147 164 171\n",
      " 158 142 148 103 183 137 196 109 169 135 143 167 111 114 138 127 118 120\n",
      " 115 165 104 141 101 108  95  96 124  89 161 113 170 100 168 151 155 154\n",
      " 172 107 159 162  91 185 205 177  99 156 128 204 149 144 173 160 157  93\n",
      " 175 201 195 153 193 192 174 197 202 187 208 218  94 184 181 198 176 182\n",
      " 194 199 237 189 190 191  88 209 186 212 224 211 213 219  98 207  92  97\n",
      "  84 180]\n",
      "Value Counts\n",
      " 126    34\n",
      "138    34\n",
      "141    34\n",
      "129    33\n",
      "147    33\n",
      "       ..\n",
      "218     1\n",
      "208     1\n",
      "86      1\n",
      "75      1\n",
      "180     1\n",
      "Name: BP Systolic, Length: 128, dtype: int64\n"
     ]
    },
    {
     "data": {
      "text/plain": [
       "<AxesSubplot:xlabel='BP Systolic', ylabel='count'>"
      ]
     },
     "execution_count": 61,
     "metadata": {},
     "output_type": "execute_result"
    },
    {
     "data": {
      "image/png": "[encoded data removed]",
      "text/plain": [
       "<Figure size 432x288 with 1 Axes>"
      ]
     },
     "metadata": {
      "needs_background": "light"
     },
     "output_type": "display_data"
    }
   ],
   "source": [
    "print('Unique Values\\n',df['BP Systolic'].unique())\n",
    "print('Value Counts\\n',df['BP Systolic'].value_counts())\n",
    "# Returns unique values and its count\n",
    "sns.countplot(data=df,x='BP Systolic')\n",
    "# Count plot of smoking status\n",
    "sns.countplot(data=df,x='BP Systolic',hue='Diagnosis')\n",
    "# BP Systolic with respect to Diagnosis/type of hypertension and Diabetes."
   ]
  },
  {
   "cell_type": "code",
   "execution_count": 62,
   "id": "8c603f97",
   "metadata": {},
   "outputs": [
    {
     "name": "stdout",
     "output_type": "stream",
     "text": [
      "Unique Values\n",
      " [ 80  88  79  73  76  72  66  85  81  91  78  69  96  94  77  87  90  89\n",
      "  83  92  62  82  74  56  75  71  84  60  93  64 114  95 103  70 102  63\n",
      "  55  53  86  67  59  68  97  58 100  65 106  61  54  57 117 104 111 101\n",
      "  99  51  52 113 110 109 112  98 115 128 108 120 119 134 105 141 123 148\n",
      " 127 122 136 107 116  50 118 133]\n",
      "Value Counts\n",
      " 80     64\n",
      "81     57\n",
      "82     50\n",
      "83     49\n",
      "85     48\n",
      "       ..\n",
      "136     1\n",
      "54      1\n",
      "50      1\n",
      "118     1\n",
      "133     1\n",
      "Name: BP Diastolic, Length: 80, dtype: int64\n"
     ]
    },
    {
     "data": {
      "text/plain": [
       "<AxesSubplot:xlabel='BP Diastolic', ylabel='count'>"
      ]
     },
     "execution_count": 62,
     "metadata": {},
     "output_type": "execute_result"
    },
    {
     "data": {
      "image/png": "[encoded data removed]",
      "text/plain": [
       "<Figure size 432x288 with 1 Axes>"
      ]
     },
     "metadata": {
      "needs_background": "light"
     },
     "output_type": "display_data"
    }
   ],
   "source": [
    "print('Unique Values\\n',df['BP Diastolic'].unique())\n",
    "print('Value Counts\\n',df['BP Diastolic'].value_counts())\n",
    "# Returns unique values and its count\n",
    "sns.countplot(data=df,x='BP Diastolic')\n",
    "# Count plot of BP Diastolic\n",
    "sns.countplot(data=df,x='BP Diastolic',hue='Diagnosis')\n",
    "# BP Diastolic with respect to Diagnosis/type of hypertension and Diabetes"
   ]
  },
  {
   "cell_type": "code",
   "execution_count": 63,
   "id": "2ec0fdac",
   "metadata": {},
   "outputs": [
    {
     "name": "stdout",
     "output_type": "stream",
     "text": [
      "Unique Value\n",
      " ['HTN,DM' 'DM' 'HTN']\n",
      "Value Counts\n",
      " HTN       941\n",
      "DM        331\n",
      "HTN,DM    215\n",
      "Name: Diagnosis, dtype: int64\n"
     ]
    },
    {
     "data": {
      "text/plain": [
       "<AxesSubplot:xlabel='Diagnosis', ylabel='count'>"
      ]
     },
     "execution_count": 63,
     "metadata": {},
     "output_type": "execute_result"
    },
    {
     "data": {
      "image/png": "[encoded data removed]",
      "text/plain": [
       "<Figure size 432x288 with 1 Axes>"
      ]
     },
     "metadata": {
      "needs_background": "light"
     },
     "output_type": "display_data"
    }
   ],
   "source": [
    "print('Unique Value\\n',df['Diagnosis'].unique())\n",
    "print('Value Counts\\n',df['Diagnosis'].value_counts())\n",
    "# Returns Unique Value and its count\n",
    "sns.countplot(data=df,x='Diagnosis')\n",
    "# Count Plot of Diagnosis/type of hypertension and Diabetes"
   ]
  },
  {
   "cell_type": "code",
   "execution_count": 64,
   "id": "028b641d",
   "metadata": {},
   "outputs": [],
   "source": [
    "from pycaret.classification import *"
   ]
  },
  {
   "cell_type": "code",
   "execution_count": 65,
   "id": "776b2911",
   "metadata": {},
   "outputs": [
    {
     "data": {
      "text/html": [
       "<style type=\"text/css\">\n",
       "#T_f6bd0_row11_col1, #T_f6bd0_row17_col1 {\n",
       "  background-color: lightgreen;\n",
       "}\n",
       "</style>\n",
       "<table id=\"T_f6bd0\">\n",
       "  <thead>\n",
       "    <tr>\n",
       "      <th class=\"blank level0\" >&nbsp;</th>\n",
       "      <th id=\"T_f6bd0_level0_col0\" class=\"col_heading level0 col0\" >Description</th>\n",
       "      <th id=\"T_f6bd0_level0_col1\" class=\"col_heading level0 col1\" >Value</th>\n",
       "    </tr>\n",
       "  </thead>\n",
       "  <tbody>\n",
       "    <tr>\n",
       "      <th id=\"T_f6bd0_level0_row0\" class=\"row_heading level0 row0\" >0</th>\n",
       "      <td id=\"T_f6bd0_row0_col0\" class=\"data row0 col0\" >Session id</td>\n",
       "      <td id=\"T_f6bd0_row0_col1\" class=\"data row0 col1\" >123</td>\n",
       "    </tr>\n",
       "    <tr>\n",
       "      <th id=\"T_f6bd0_level0_row1\" class=\"row_heading level0 row1\" >1</th>\n",
       "      <td id=\"T_f6bd0_row1_col0\" class=\"data row1 col0\" >Target</td>\n",
       "      <td id=\"T_f6bd0_row1_col1\" class=\"data row1 col1\" >Diagnosis</td>\n",
       "    </tr>\n",
       "    <tr>\n",
       "      <th id=\"T_f6bd0_level0_row2\" class=\"row_heading level0 row2\" >2</th>\n",
       "      <td id=\"T_f6bd0_row2_col0\" class=\"data row2 col0\" >Target type</td>\n",
       "      <td id=\"T_f6bd0_row2_col1\" class=\"data row2 col1\" >Multiclass</td>\n",
       "    </tr>\n",
       "    <tr>\n",
       "      <th id=\"T_f6bd0_level0_row3\" class=\"row_heading level0 row3\" >3</th>\n",
       "      <td id=\"T_f6bd0_row3_col0\" class=\"data row3 col0\" >Target mapping</td>\n",
       "      <td id=\"T_f6bd0_row3_col1\" class=\"data row3 col1\" >DM: 0, HTN: 1, HTN,DM: 2</td>\n",
       "    </tr>\n",
       "    <tr>\n",
       "      <th id=\"T_f6bd0_level0_row4\" class=\"row_heading level0 row4\" >4</th>\n",
       "      <td id=\"T_f6bd0_row4_col0\" class=\"data row4 col0\" >Original data shape</td>\n",
       "      <td id=\"T_f6bd0_row4_col1\" class=\"data row4 col1\" >(1487, 10)</td>\n",
       "    </tr>\n",
       "    <tr>\n",
       "      <th id=\"T_f6bd0_level0_row5\" class=\"row_heading level0 row5\" >5</th>\n",
       "      <td id=\"T_f6bd0_row5_col0\" class=\"data row5 col0\" >Transformed data shape</td>\n",
       "      <td id=\"T_f6bd0_row5_col1\" class=\"data row5 col1\" >(2421, 12)</td>\n",
       "    </tr>\n",
       "    <tr>\n",
       "      <th id=\"T_f6bd0_level0_row6\" class=\"row_heading level0 row6\" >6</th>\n",
       "      <td id=\"T_f6bd0_row6_col0\" class=\"data row6 col0\" >Transformed train set shape</td>\n",
       "      <td id=\"T_f6bd0_row6_col1\" class=\"data row6 col1\" >(1974, 12)</td>\n",
       "    </tr>\n",
       "    <tr>\n",
       "      <th id=\"T_f6bd0_level0_row7\" class=\"row_heading level0 row7\" >7</th>\n",
       "      <td id=\"T_f6bd0_row7_col0\" class=\"data row7 col0\" >Transformed test set shape</td>\n",
       "      <td id=\"T_f6bd0_row7_col1\" class=\"data row7 col1\" >(447, 12)</td>\n",
       "    </tr>\n",
       "    <tr>\n",
       "      <th id=\"T_f6bd0_level0_row8\" class=\"row_heading level0 row8\" >8</th>\n",
       "      <td id=\"T_f6bd0_row8_col0\" class=\"data row8 col0\" >Ordinal features</td>\n",
       "      <td id=\"T_f6bd0_row8_col1\" class=\"data row8 col1\" >1</td>\n",
       "    </tr>\n",
       "    <tr>\n",
       "      <th id=\"T_f6bd0_level0_row9\" class=\"row_heading level0 row9\" >9</th>\n",
       "      <td id=\"T_f6bd0_row9_col0\" class=\"data row9 col0\" >Numeric features</td>\n",
       "      <td id=\"T_f6bd0_row9_col1\" class=\"data row9 col1\" >6</td>\n",
       "    </tr>\n",
       "    <tr>\n",
       "      <th id=\"T_f6bd0_level0_row10\" class=\"row_heading level0 row10\" >10</th>\n",
       "      <td id=\"T_f6bd0_row10_col0\" class=\"data row10 col0\" >Categorical features</td>\n",
       "      <td id=\"T_f6bd0_row10_col1\" class=\"data row10 col1\" >3</td>\n",
       "    </tr>\n",
       "    <tr>\n",
       "      <th id=\"T_f6bd0_level0_row11\" class=\"row_heading level0 row11\" >11</th>\n",
       "      <td id=\"T_f6bd0_row11_col0\" class=\"data row11 col0\" >Preprocess</td>\n",
       "      <td id=\"T_f6bd0_row11_col1\" class=\"data row11 col1\" >True</td>\n",
       "    </tr>\n",
       "    <tr>\n",
       "      <th id=\"T_f6bd0_level0_row12\" class=\"row_heading level0 row12\" >12</th>\n",
       "      <td id=\"T_f6bd0_row12_col0\" class=\"data row12 col0\" >Imputation type</td>\n",
       "      <td id=\"T_f6bd0_row12_col1\" class=\"data row12 col1\" >simple</td>\n",
       "    </tr>\n",
       "    <tr>\n",
       "      <th id=\"T_f6bd0_level0_row13\" class=\"row_heading level0 row13\" >13</th>\n",
       "      <td id=\"T_f6bd0_row13_col0\" class=\"data row13 col0\" >Numeric imputation</td>\n",
       "      <td id=\"T_f6bd0_row13_col1\" class=\"data row13 col1\" >mean</td>\n",
       "    </tr>\n",
       "    <tr>\n",
       "      <th id=\"T_f6bd0_level0_row14\" class=\"row_heading level0 row14\" >14</th>\n",
       "      <td id=\"T_f6bd0_row14_col0\" class=\"data row14 col0\" >Categorical imputation</td>\n",
       "      <td id=\"T_f6bd0_row14_col1\" class=\"data row14 col1\" >mode</td>\n",
       "    </tr>\n",
       "    <tr>\n",
       "      <th id=\"T_f6bd0_level0_row15\" class=\"row_heading level0 row15\" >15</th>\n",
       "      <td id=\"T_f6bd0_row15_col0\" class=\"data row15 col0\" >Maximum one-hot encoding</td>\n",
       "      <td id=\"T_f6bd0_row15_col1\" class=\"data row15 col1\" >5</td>\n",
       "    </tr>\n",
       "    <tr>\n",
       "      <th id=\"T_f6bd0_level0_row16\" class=\"row_heading level0 row16\" >16</th>\n",
       "      <td id=\"T_f6bd0_row16_col0\" class=\"data row16 col0\" >Encoding method</td>\n",
       "      <td id=\"T_f6bd0_row16_col1\" class=\"data row16 col1\" >None</td>\n",
       "    </tr>\n",
       "    <tr>\n",
       "      <th id=\"T_f6bd0_level0_row17\" class=\"row_heading level0 row17\" >17</th>\n",
       "      <td id=\"T_f6bd0_row17_col0\" class=\"data row17 col0\" >Fix imbalance</td>\n",
       "      <td id=\"T_f6bd0_row17_col1\" class=\"data row17 col1\" >True</td>\n",
       "    </tr>\n",
       "    <tr>\n",
       "      <th id=\"T_f6bd0_level0_row18\" class=\"row_heading level0 row18\" >18</th>\n",
       "      <td id=\"T_f6bd0_row18_col0\" class=\"data row18 col0\" >Fix imbalance method</td>\n",
       "      <td id=\"T_f6bd0_row18_col1\" class=\"data row18 col1\" >SMOTE</td>\n",
       "    </tr>\n",
       "    <tr>\n",
       "      <th id=\"T_f6bd0_level0_row19\" class=\"row_heading level0 row19\" >19</th>\n",
       "      <td id=\"T_f6bd0_row19_col0\" class=\"data row19 col0\" >Fold Generator</td>\n",
       "      <td id=\"T_f6bd0_row19_col1\" class=\"data row19 col1\" >StratifiedKFold</td>\n",
       "    </tr>\n",
       "    <tr>\n",
       "      <th id=\"T_f6bd0_level0_row20\" class=\"row_heading level0 row20\" >20</th>\n",
       "      <td id=\"T_f6bd0_row20_col0\" class=\"data row20 col0\" >Fold Number</td>\n",
       "      <td id=\"T_f6bd0_row20_col1\" class=\"data row20 col1\" >10</td>\n",
       "    </tr>\n",
       "    <tr>\n",
       "      <th id=\"T_f6bd0_level0_row21\" class=\"row_heading level0 row21\" >21</th>\n",
       "      <td id=\"T_f6bd0_row21_col0\" class=\"data row21 col0\" >CPU Jobs</td>\n",
       "      <td id=\"T_f6bd0_row21_col1\" class=\"data row21 col1\" >-1</td>\n",
       "    </tr>\n",
       "    <tr>\n",
       "      <th id=\"T_f6bd0_level0_row22\" class=\"row_heading level0 row22\" >22</th>\n",
       "      <td id=\"T_f6bd0_row22_col0\" class=\"data row22 col0\" >Use GPU</td>\n",
       "      <td id=\"T_f6bd0_row22_col1\" class=\"data row22 col1\" >False</td>\n",
       "    </tr>\n",
       "    <tr>\n",
       "      <th id=\"T_f6bd0_level0_row23\" class=\"row_heading level0 row23\" >23</th>\n",
       "      <td id=\"T_f6bd0_row23_col0\" class=\"data row23 col0\" >Log Experiment</td>\n",
       "      <td id=\"T_f6bd0_row23_col1\" class=\"data row23 col1\" >False</td>\n",
       "    </tr>\n",
       "    <tr>\n",
       "      <th id=\"T_f6bd0_level0_row24\" class=\"row_heading level0 row24\" >24</th>\n",
       "      <td id=\"T_f6bd0_row24_col0\" class=\"data row24 col0\" >Experiment Name</td>\n",
       "      <td id=\"T_f6bd0_row24_col1\" class=\"data row24 col1\" >clf-default-name</td>\n",
       "    </tr>\n",
       "    <tr>\n",
       "      <th id=\"T_f6bd0_level0_row25\" class=\"row_heading level0 row25\" >25</th>\n",
       "      <td id=\"T_f6bd0_row25_col0\" class=\"data row25 col0\" >USI</td>\n",
       "      <td id=\"T_f6bd0_row25_col1\" class=\"data row25 col1\" >0481</td>\n",
       "    </tr>\n",
       "  </tbody>\n",
       "</table>\n"
      ],
      "text/plain": [
       "<pandas.io.formats.style.Styler at 0x20437aea970>"
      ]
     },
     "metadata": {},
     "output_type": "display_data"
    }
   ],
   "source": [
    "s = setup(data=df, target = 'Diagnosis', fix_imbalance = True, session_id = 123)"
   ]
  },
  {
   "cell_type": "markdown",
   "id": "1b3a2260",
   "metadata": {},
   "source": [
    "# Compare Models\n",
    "This function trains and evaluates the performance of all the estimators available in the model library using cross-validation. The output of this function is a scoring grid with average cross-validated scores. Metrics evaluated during CV can be accessed using the get_metrics function. Custom metrics can be added or removed using add_metric and remove_metric function."
   ]
  },
  {
   "cell_type": "code",
   "execution_count": 66,
   "id": "78a120e5",
   "metadata": {},
   "outputs": [
    {
     "data": {
      "text/html": [],
      "text/plain": [
       "<IPython.core.display.HTML object>"
      ]
     },
     "metadata": {},
     "output_type": "display_data"
    },
    {
     "data": {
      "text/html": [
       "<style type=\"text/css\">\n",
       "#T_ba334 th {\n",
       "  text-align: left;\n",
       "}\n",
       "#T_ba334_row0_col0, #T_ba334_row1_col0, #T_ba334_row1_col1, #T_ba334_row1_col2, #T_ba334_row1_col3, #T_ba334_row1_col4, #T_ba334_row1_col5, #T_ba334_row1_col6, #T_ba334_row1_col7, #T_ba334_row2_col0, #T_ba334_row2_col1, #T_ba334_row2_col2, #T_ba334_row2_col3, #T_ba334_row2_col4, #T_ba334_row2_col5, #T_ba334_row2_col6, #T_ba334_row2_col7, #T_ba334_row3_col0, #T_ba334_row3_col1, #T_ba334_row3_col2, #T_ba334_row3_col3, #T_ba334_row3_col4, #T_ba334_row3_col5, #T_ba334_row3_col6, #T_ba334_row3_col7, #T_ba334_row4_col0, #T_ba334_row4_col1, #T_ba334_row4_col2, #T_ba334_row4_col3, #T_ba334_row4_col4, #T_ba334_row4_col5, #T_ba334_row4_col6, #T_ba334_row4_col7, #T_ba334_row5_col0, #T_ba334_row5_col1, #T_ba334_row5_col2, #T_ba334_row5_col3, #T_ba334_row5_col4, #T_ba334_row5_col5, #T_ba334_row5_col6, #T_ba334_row5_col7, #T_ba334_row6_col0, #T_ba334_row6_col1, #T_ba334_row6_col2, #T_ba334_row6_col3, #T_ba334_row6_col4, #T_ba334_row6_col5, #T_ba334_row6_col6, #T_ba334_row6_col7, #T_ba334_row7_col0, #T_ba334_row7_col1, #T_ba334_row7_col2, #T_ba334_row7_col3, #T_ba334_row7_col4, #T_ba334_row7_col5, #T_ba334_row7_col6, #T_ba334_row7_col7, #T_ba334_row8_col0, #T_ba334_row8_col1, #T_ba334_row8_col2, #T_ba334_row8_col3, #T_ba334_row8_col4, #T_ba334_row8_col5, #T_ba334_row8_col6, #T_ba334_row8_col7, #T_ba334_row9_col0, #T_ba334_row9_col1, #T_ba334_row9_col2, #T_ba334_row9_col3, #T_ba334_row9_col4, #T_ba334_row9_col5, #T_ba334_row9_col6, #T_ba334_row9_col7, #T_ba334_row10_col0, #T_ba334_row10_col1, #T_ba334_row10_col2, #T_ba334_row10_col3, #T_ba334_row10_col4, #T_ba334_row10_col5, #T_ba334_row10_col6, #T_ba334_row10_col7, #T_ba334_row11_col0, #T_ba334_row11_col1, #T_ba334_row11_col2, #T_ba334_row11_col3, #T_ba334_row11_col4, #T_ba334_row11_col5, #T_ba334_row11_col6, #T_ba334_row11_col7, #T_ba334_row12_col0, #T_ba334_row12_col1, #T_ba334_row12_col2, #T_ba334_row12_col3, #T_ba334_row12_col4, #T_ba334_row12_col5, #T_ba334_row12_col6, #T_ba334_row12_col7, #T_ba334_row13_col0, #T_ba334_row13_col1, #T_ba334_row13_col2, #T_ba334_row13_col3, #T_ba334_row13_col4, #T_ba334_row13_col5, #T_ba334_row13_col6, #T_ba334_row13_col7, #T_ba334_row14_col0, #T_ba334_row14_col1, #T_ba334_row14_col2, #T_ba334_row14_col3, #T_ba334_row14_col4, #T_ba334_row14_col5, #T_ba334_row14_col6, #T_ba334_row14_col7, #T_ba334_row15_col0, #T_ba334_row15_col1, #T_ba334_row15_col2, #T_ba334_row15_col3, #T_ba334_row15_col4, #T_ba334_row15_col5, #T_ba334_row15_col6, #T_ba334_row15_col7 {\n",
       "  text-align: left;\n",
       "}\n",
       "#T_ba334_row0_col1, #T_ba334_row0_col2, #T_ba334_row0_col3, #T_ba334_row0_col4, #T_ba334_row0_col5, #T_ba334_row0_col6, #T_ba334_row0_col7 {\n",
       "  text-align: left;\n",
       "  background-color: yellow;\n",
       "}\n",
       "#T_ba334_row0_col8, #T_ba334_row1_col8, #T_ba334_row2_col8, #T_ba334_row3_col8, #T_ba334_row4_col8, #T_ba334_row5_col8, #T_ba334_row6_col8, #T_ba334_row7_col8, #T_ba334_row8_col8, #T_ba334_row9_col8, #T_ba334_row10_col8, #T_ba334_row11_col8, #T_ba334_row13_col8, #T_ba334_row14_col8, #T_ba334_row15_col8 {\n",
       "  text-align: left;\n",
       "  background-color: lightgrey;\n",
       "}\n",
       "#T_ba334_row12_col8 {\n",
       "  text-align: left;\n",
       "  background-color: yellow;\n",
       "  background-color: lightgrey;\n",
       "}\n",
       "</style>\n",
       "<table id=\"T_ba334\">\n",
       "  <thead>\n",
       "    <tr>\n",
       "      <th class=\"blank level0\" >&nbsp;</th>\n",
       "      <th id=\"T_ba334_level0_col0\" class=\"col_heading level0 col0\" >Model</th>\n",
       "      <th id=\"T_ba334_level0_col1\" class=\"col_heading level0 col1\" >Accuracy</th>\n",
       "      <th id=\"T_ba334_level0_col2\" class=\"col_heading level0 col2\" >AUC</th>\n",
       "      <th id=\"T_ba334_level0_col3\" class=\"col_heading level0 col3\" >Recall</th>\n",
       "      <th id=\"T_ba334_level0_col4\" class=\"col_heading level0 col4\" >Prec.</th>\n",
       "      <th id=\"T_ba334_level0_col5\" class=\"col_heading level0 col5\" >F1</th>\n",
       "      <th id=\"T_ba334_level0_col6\" class=\"col_heading level0 col6\" >Kappa</th>\n",
       "      <th id=\"T_ba334_level0_col7\" class=\"col_heading level0 col7\" >MCC</th>\n",
       "      <th id=\"T_ba334_level0_col8\" class=\"col_heading level0 col8\" >TT (Sec)</th>\n",
       "    </tr>\n",
       "  </thead>\n",
       "  <tbody>\n",
       "    <tr>\n",
       "      <th id=\"T_ba334_level0_row0\" class=\"row_heading level0 row0\" >et</th>\n",
       "      <td id=\"T_ba334_row0_col0\" class=\"data row0 col0\" >Extra Trees Classifier</td>\n",
       "      <td id=\"T_ba334_row0_col1\" class=\"data row0 col1\" >0.7087</td>\n",
       "      <td id=\"T_ba334_row0_col2\" class=\"data row0 col2\" >0.7920</td>\n",
       "      <td id=\"T_ba334_row0_col3\" class=\"data row0 col3\" >0.7087</td>\n",
       "      <td id=\"T_ba334_row0_col4\" class=\"data row0 col4\" >0.6982</td>\n",
       "      <td id=\"T_ba334_row0_col5\" class=\"data row0 col5\" >0.6964</td>\n",
       "      <td id=\"T_ba334_row0_col6\" class=\"data row0 col6\" >0.4111</td>\n",
       "      <td id=\"T_ba334_row0_col7\" class=\"data row0 col7\" >0.4183</td>\n",
       "      <td id=\"T_ba334_row0_col8\" class=\"data row0 col8\" >0.2490</td>\n",
       "    </tr>\n",
       "    <tr>\n",
       "      <th id=\"T_ba334_level0_row1\" class=\"row_heading level0 row1\" >rf</th>\n",
       "      <td id=\"T_ba334_row1_col0\" class=\"data row1 col0\" >Random Forest Classifier</td>\n",
       "      <td id=\"T_ba334_row1_col1\" class=\"data row1 col1\" >0.6692</td>\n",
       "      <td id=\"T_ba334_row1_col2\" class=\"data row1 col2\" >0.7294</td>\n",
       "      <td id=\"T_ba334_row1_col3\" class=\"data row1 col3\" >0.6692</td>\n",
       "      <td id=\"T_ba334_row1_col4\" class=\"data row1 col4\" >0.6565</td>\n",
       "      <td id=\"T_ba334_row1_col5\" class=\"data row1 col5\" >0.6412</td>\n",
       "      <td id=\"T_ba334_row1_col6\" class=\"data row1 col6\" >0.2880</td>\n",
       "      <td id=\"T_ba334_row1_col7\" class=\"data row1 col7\" >0.3042</td>\n",
       "      <td id=\"T_ba334_row1_col8\" class=\"data row1 col8\" >0.2700</td>\n",
       "    </tr>\n",
       "    <tr>\n",
       "      <th id=\"T_ba334_level0_row2\" class=\"row_heading level0 row2\" >xgboost</th>\n",
       "      <td id=\"T_ba334_row2_col0\" class=\"data row2 col0\" >Extreme Gradient Boosting</td>\n",
       "      <td id=\"T_ba334_row2_col1\" class=\"data row2 col1\" >0.6510</td>\n",
       "      <td id=\"T_ba334_row2_col2\" class=\"data row2 col2\" >0.6706</td>\n",
       "      <td id=\"T_ba334_row2_col3\" class=\"data row2 col3\" >0.6510</td>\n",
       "      <td id=\"T_ba334_row2_col4\" class=\"data row2 col4\" >0.6317</td>\n",
       "      <td id=\"T_ba334_row2_col5\" class=\"data row2 col5\" >0.6252</td>\n",
       "      <td id=\"T_ba334_row2_col6\" class=\"data row2 col6\" >0.2669</td>\n",
       "      <td id=\"T_ba334_row2_col7\" class=\"data row2 col7\" >0.2820</td>\n",
       "      <td id=\"T_ba334_row2_col8\" class=\"data row2 col8\" >0.6710</td>\n",
       "    </tr>\n",
       "    <tr>\n",
       "      <th id=\"T_ba334_level0_row3\" class=\"row_heading level0 row3\" >catboost</th>\n",
       "      <td id=\"T_ba334_row3_col0\" class=\"data row3 col0\" >CatBoost Classifier</td>\n",
       "      <td id=\"T_ba334_row3_col1\" class=\"data row3 col1\" >0.6510</td>\n",
       "      <td id=\"T_ba334_row3_col2\" class=\"data row3 col2\" >0.6893</td>\n",
       "      <td id=\"T_ba334_row3_col3\" class=\"data row3 col3\" >0.6510</td>\n",
       "      <td id=\"T_ba334_row3_col4\" class=\"data row3 col4\" >0.6188</td>\n",
       "      <td id=\"T_ba334_row3_col5\" class=\"data row3 col5\" >0.6200</td>\n",
       "      <td id=\"T_ba334_row3_col6\" class=\"data row3 col6\" >0.2488</td>\n",
       "      <td id=\"T_ba334_row3_col7\" class=\"data row3 col7\" >0.2621</td>\n",
       "      <td id=\"T_ba334_row3_col8\" class=\"data row3 col8\" >6.3200</td>\n",
       "    </tr>\n",
       "    <tr>\n",
       "      <th id=\"T_ba334_level0_row4\" class=\"row_heading level0 row4\" >gbc</th>\n",
       "      <td id=\"T_ba334_row4_col0\" class=\"data row4 col0\" >Gradient Boosting Classifier</td>\n",
       "      <td id=\"T_ba334_row4_col1\" class=\"data row4 col1\" >0.6375</td>\n",
       "      <td id=\"T_ba334_row4_col2\" class=\"data row4 col2\" >0.6573</td>\n",
       "      <td id=\"T_ba334_row4_col3\" class=\"data row4 col3\" >0.6375</td>\n",
       "      <td id=\"T_ba334_row4_col4\" class=\"data row4 col4\" >0.6141</td>\n",
       "      <td id=\"T_ba334_row4_col5\" class=\"data row4 col5\" >0.6112</td>\n",
       "      <td id=\"T_ba334_row4_col6\" class=\"data row4 col6\" >0.2378</td>\n",
       "      <td id=\"T_ba334_row4_col7\" class=\"data row4 col7\" >0.2500</td>\n",
       "      <td id=\"T_ba334_row4_col8\" class=\"data row4 col8\" >0.7230</td>\n",
       "    </tr>\n",
       "    <tr>\n",
       "      <th id=\"T_ba334_level0_row5\" class=\"row_heading level0 row5\" >lightgbm</th>\n",
       "      <td id=\"T_ba334_row5_col0\" class=\"data row5 col0\" >Light Gradient Boosting Machine</td>\n",
       "      <td id=\"T_ba334_row5_col1\" class=\"data row5 col1\" >0.6317</td>\n",
       "      <td id=\"T_ba334_row5_col2\" class=\"data row5 col2\" >0.6793</td>\n",
       "      <td id=\"T_ba334_row5_col3\" class=\"data row5 col3\" >0.6317</td>\n",
       "      <td id=\"T_ba334_row5_col4\" class=\"data row5 col4\" >0.6141</td>\n",
       "      <td id=\"T_ba334_row5_col5\" class=\"data row5 col5\" >0.6045</td>\n",
       "      <td id=\"T_ba334_row5_col6\" class=\"data row5 col6\" >0.2346</td>\n",
       "      <td id=\"T_ba334_row5_col7\" class=\"data row5 col7\" >0.2507</td>\n",
       "      <td id=\"T_ba334_row5_col8\" class=\"data row5 col8\" >2.3590</td>\n",
       "    </tr>\n",
       "    <tr>\n",
       "      <th id=\"T_ba334_level0_row6\" class=\"row_heading level0 row6\" >ada</th>\n",
       "      <td id=\"T_ba334_row6_col0\" class=\"data row6 col0\" >Ada Boost Classifier</td>\n",
       "      <td id=\"T_ba334_row6_col1\" class=\"data row6 col1\" >0.5933</td>\n",
       "      <td id=\"T_ba334_row6_col2\" class=\"data row6 col2\" >0.6473</td>\n",
       "      <td id=\"T_ba334_row6_col3\" class=\"data row6 col3\" >0.5933</td>\n",
       "      <td id=\"T_ba334_row6_col4\" class=\"data row6 col4\" >0.5814</td>\n",
       "      <td id=\"T_ba334_row6_col5\" class=\"data row6 col5\" >0.5794</td>\n",
       "      <td id=\"T_ba334_row6_col6\" class=\"data row6 col6\" >0.1981</td>\n",
       "      <td id=\"T_ba334_row6_col7\" class=\"data row6 col7\" >0.2021</td>\n",
       "      <td id=\"T_ba334_row6_col8\" class=\"data row6 col8\" >0.3390</td>\n",
       "    </tr>\n",
       "    <tr>\n",
       "      <th id=\"T_ba334_level0_row7\" class=\"row_heading level0 row7\" >dt</th>\n",
       "      <td id=\"T_ba334_row7_col0\" class=\"data row7 col0\" >Decision Tree Classifier</td>\n",
       "      <td id=\"T_ba334_row7_col1\" class=\"data row7 col1\" >0.5846</td>\n",
       "      <td id=\"T_ba334_row7_col2\" class=\"data row7 col2\" >0.5809</td>\n",
       "      <td id=\"T_ba334_row7_col3\" class=\"data row7 col3\" >0.5846</td>\n",
       "      <td id=\"T_ba334_row7_col4\" class=\"data row7 col4\" >0.5818</td>\n",
       "      <td id=\"T_ba334_row7_col5\" class=\"data row7 col5\" >0.5654</td>\n",
       "      <td id=\"T_ba334_row7_col6\" class=\"data row7 col6\" >0.1820</td>\n",
       "      <td id=\"T_ba334_row7_col7\" class=\"data row7 col7\" >0.1911</td>\n",
       "      <td id=\"T_ba334_row7_col8\" class=\"data row7 col8\" >0.1020</td>\n",
       "    </tr>\n",
       "    <tr>\n",
       "      <th id=\"T_ba334_level0_row8\" class=\"row_heading level0 row8\" >knn</th>\n",
       "      <td id=\"T_ba334_row8_col0\" class=\"data row8 col0\" >K Neighbors Classifier</td>\n",
       "      <td id=\"T_ba334_row8_col1\" class=\"data row8 col1\" >0.5308</td>\n",
       "      <td id=\"T_ba334_row8_col2\" class=\"data row8 col2\" >0.6897</td>\n",
       "      <td id=\"T_ba334_row8_col3\" class=\"data row8 col3\" >0.5308</td>\n",
       "      <td id=\"T_ba334_row8_col4\" class=\"data row8 col4\" >0.6320</td>\n",
       "      <td id=\"T_ba334_row8_col5\" class=\"data row8 col5\" >0.5480</td>\n",
       "      <td id=\"T_ba334_row8_col6\" class=\"data row8 col6\" >0.2633</td>\n",
       "      <td id=\"T_ba334_row8_col7\" class=\"data row8 col7\" >0.2838</td>\n",
       "      <td id=\"T_ba334_row8_col8\" class=\"data row8 col8\" >0.1210</td>\n",
       "    </tr>\n",
       "    <tr>\n",
       "      <th id=\"T_ba334_level0_row9\" class=\"row_heading level0 row9\" >lda</th>\n",
       "      <td id=\"T_ba334_row9_col0\" class=\"data row9 col0\" >Linear Discriminant Analysis</td>\n",
       "      <td id=\"T_ba334_row9_col1\" class=\"data row9 col1\" >0.5096</td>\n",
       "      <td id=\"T_ba334_row9_col2\" class=\"data row9 col2\" >0.6940</td>\n",
       "      <td id=\"T_ba334_row9_col3\" class=\"data row9 col3\" >0.5096</td>\n",
       "      <td id=\"T_ba334_row9_col4\" class=\"data row9 col4\" >0.6049</td>\n",
       "      <td id=\"T_ba334_row9_col5\" class=\"data row9 col5\" >0.5294</td>\n",
       "      <td id=\"T_ba334_row9_col6\" class=\"data row9 col6\" >0.2218</td>\n",
       "      <td id=\"T_ba334_row9_col7\" class=\"data row9 col7\" >0.2375</td>\n",
       "      <td id=\"T_ba334_row9_col8\" class=\"data row9 col8\" >0.1020</td>\n",
       "    </tr>\n",
       "    <tr>\n",
       "      <th id=\"T_ba334_level0_row10\" class=\"row_heading level0 row10\" >lr</th>\n",
       "      <td id=\"T_ba334_row10_col0\" class=\"data row10 col0\" >Logistic Regression</td>\n",
       "      <td id=\"T_ba334_row10_col1\" class=\"data row10 col1\" >0.5077</td>\n",
       "      <td id=\"T_ba334_row10_col2\" class=\"data row10 col2\" >0.6903</td>\n",
       "      <td id=\"T_ba334_row10_col3\" class=\"data row10 col3\" >0.5077</td>\n",
       "      <td id=\"T_ba334_row10_col4\" class=\"data row10 col4\" >0.6245</td>\n",
       "      <td id=\"T_ba334_row10_col5\" class=\"data row10 col5\" >0.5281</td>\n",
       "      <td id=\"T_ba334_row10_col6\" class=\"data row10 col6\" >0.2368</td>\n",
       "      <td id=\"T_ba334_row10_col7\" class=\"data row10 col7\" >0.2586</td>\n",
       "      <td id=\"T_ba334_row10_col8\" class=\"data row10 col8\" >14.1410</td>\n",
       "    </tr>\n",
       "    <tr>\n",
       "      <th id=\"T_ba334_level0_row11\" class=\"row_heading level0 row11\" >ridge</th>\n",
       "      <td id=\"T_ba334_row11_col0\" class=\"data row11 col0\" >Ridge Classifier</td>\n",
       "      <td id=\"T_ba334_row11_col1\" class=\"data row11 col1\" >0.4933</td>\n",
       "      <td id=\"T_ba334_row11_col2\" class=\"data row11 col2\" >0.0000</td>\n",
       "      <td id=\"T_ba334_row11_col3\" class=\"data row11 col3\" >0.4933</td>\n",
       "      <td id=\"T_ba334_row11_col4\" class=\"data row11 col4\" >0.6185</td>\n",
       "      <td id=\"T_ba334_row11_col5\" class=\"data row11 col5\" >0.5119</td>\n",
       "      <td id=\"T_ba334_row11_col6\" class=\"data row11 col6\" >0.2214</td>\n",
       "      <td id=\"T_ba334_row11_col7\" class=\"data row11 col7\" >0.2447</td>\n",
       "      <td id=\"T_ba334_row11_col8\" class=\"data row11 col8\" >0.1300</td>\n",
       "    </tr>\n",
       "    <tr>\n",
       "      <th id=\"T_ba334_level0_row12\" class=\"row_heading level0 row12\" >nb</th>\n",
       "      <td id=\"T_ba334_row12_col0\" class=\"data row12 col0\" >Naive Bayes</td>\n",
       "      <td id=\"T_ba334_row12_col1\" class=\"data row12 col1\" >0.4173</td>\n",
       "      <td id=\"T_ba334_row12_col2\" class=\"data row12 col2\" >0.6700</td>\n",
       "      <td id=\"T_ba334_row12_col3\" class=\"data row12 col3\" >0.4173</td>\n",
       "      <td id=\"T_ba334_row12_col4\" class=\"data row12 col4\" >0.6184</td>\n",
       "      <td id=\"T_ba334_row12_col5\" class=\"data row12 col5\" >0.4017</td>\n",
       "      <td id=\"T_ba334_row12_col6\" class=\"data row12 col6\" >0.1333</td>\n",
       "      <td id=\"T_ba334_row12_col7\" class=\"data row12 col7\" >0.1908</td>\n",
       "      <td id=\"T_ba334_row12_col8\" class=\"data row12 col8\" >0.0900</td>\n",
       "    </tr>\n",
       "    <tr>\n",
       "      <th id=\"T_ba334_level0_row13\" class=\"row_heading level0 row13\" >svm</th>\n",
       "      <td id=\"T_ba334_row13_col0\" class=\"data row13 col0\" >SVM - Linear Kernel</td>\n",
       "      <td id=\"T_ba334_row13_col1\" class=\"data row13 col1\" >0.3798</td>\n",
       "      <td id=\"T_ba334_row13_col2\" class=\"data row13 col2\" >0.0000</td>\n",
       "      <td id=\"T_ba334_row13_col3\" class=\"data row13 col3\" >0.3798</td>\n",
       "      <td id=\"T_ba334_row13_col4\" class=\"data row13 col4\" >0.5005</td>\n",
       "      <td id=\"T_ba334_row13_col5\" class=\"data row13 col5\" >0.3213</td>\n",
       "      <td id=\"T_ba334_row13_col6\" class=\"data row13 col6\" >0.1006</td>\n",
       "      <td id=\"T_ba334_row13_col7\" class=\"data row13 col7\" >0.1418</td>\n",
       "      <td id=\"T_ba334_row13_col8\" class=\"data row13 col8\" >0.0990</td>\n",
       "    </tr>\n",
       "    <tr>\n",
       "      <th id=\"T_ba334_level0_row14\" class=\"row_heading level0 row14\" >qda</th>\n",
       "      <td id=\"T_ba334_row14_col0\" class=\"data row14 col0\" >Quadratic Discriminant Analysis</td>\n",
       "      <td id=\"T_ba334_row14_col1\" class=\"data row14 col1\" >0.2721</td>\n",
       "      <td id=\"T_ba334_row14_col2\" class=\"data row14 col2\" >0.5487</td>\n",
       "      <td id=\"T_ba334_row14_col3\" class=\"data row14 col3\" >0.2721</td>\n",
       "      <td id=\"T_ba334_row14_col4\" class=\"data row14 col4\" >0.5444</td>\n",
       "      <td id=\"T_ba334_row14_col5\" class=\"data row14 col5\" >0.2380</td>\n",
       "      <td id=\"T_ba334_row14_col6\" class=\"data row14 col6\" >0.0391</td>\n",
       "      <td id=\"T_ba334_row14_col7\" class=\"data row14 col7\" >0.0632</td>\n",
       "      <td id=\"T_ba334_row14_col8\" class=\"data row14 col8\" >0.1410</td>\n",
       "    </tr>\n",
       "    <tr>\n",
       "      <th id=\"T_ba334_level0_row15\" class=\"row_heading level0 row15\" >dummy</th>\n",
       "      <td id=\"T_ba334_row15_col0\" class=\"data row15 col0\" >Dummy Classifier</td>\n",
       "      <td id=\"T_ba334_row15_col1\" class=\"data row15 col1\" >0.2231</td>\n",
       "      <td id=\"T_ba334_row15_col2\" class=\"data row15 col2\" >0.5000</td>\n",
       "      <td id=\"T_ba334_row15_col3\" class=\"data row15 col3\" >0.2231</td>\n",
       "      <td id=\"T_ba334_row15_col4\" class=\"data row15 col4\" >0.0498</td>\n",
       "      <td id=\"T_ba334_row15_col5\" class=\"data row15 col5\" >0.0814</td>\n",
       "      <td id=\"T_ba334_row15_col6\" class=\"data row15 col6\" >0.0000</td>\n",
       "      <td id=\"T_ba334_row15_col7\" class=\"data row15 col7\" >0.0000</td>\n",
       "      <td id=\"T_ba334_row15_col8\" class=\"data row15 col8\" >0.1080</td>\n",
       "    </tr>\n",
       "  </tbody>\n",
       "</table>\n"
      ],
      "text/plain": [
       "<pandas.io.formats.style.Styler at 0x204190bc130>"
      ]
     },
     "metadata": {},
     "output_type": "display_data"
    },
    {
     "data": {
      "application/vnd.jupyter.widget-view+json": {
       "model_id": "",
       "version_major": 2,
       "version_minor": 0
      },
      "text/plain": [
       "Processing:   0%|          | 0/69 [00:00<?, ?it/s]"
      ]
     },
     "metadata": {},
     "output_type": "display_data"
    },
    {
     "data": {
      "text/html": [],
      "text/plain": [
       "<IPython.core.display.HTML object>"
      ]
     },
     "metadata": {},
     "output_type": "display_data"
    },
    {
     "data": {
      "text/html": [
       "<style type=\"text/css\">\n",
       "#T_b540b th {\n",
       "  text-align: left;\n",
       "}\n",
       "#T_b540b_row0_col0, #T_b540b_row1_col0, #T_b540b_row1_col1, #T_b540b_row1_col2, #T_b540b_row1_col3, #T_b540b_row1_col4, #T_b540b_row1_col5, #T_b540b_row1_col6, #T_b540b_row1_col7, #T_b540b_row2_col0, #T_b540b_row2_col1, #T_b540b_row2_col2, #T_b540b_row2_col3, #T_b540b_row2_col4, #T_b540b_row2_col5, #T_b540b_row2_col6, #T_b540b_row2_col7, #T_b540b_row3_col0, #T_b540b_row3_col1, #T_b540b_row3_col2, #T_b540b_row3_col3, #T_b540b_row3_col4, #T_b540b_row3_col5, #T_b540b_row3_col6, #T_b540b_row3_col7, #T_b540b_row4_col0, #T_b540b_row4_col1, #T_b540b_row4_col2, #T_b540b_row4_col3, #T_b540b_row4_col4, #T_b540b_row4_col5, #T_b540b_row4_col6, #T_b540b_row4_col7, #T_b540b_row5_col0, #T_b540b_row5_col1, #T_b540b_row5_col2, #T_b540b_row5_col3, #T_b540b_row5_col4, #T_b540b_row5_col5, #T_b540b_row5_col6, #T_b540b_row5_col7, #T_b540b_row6_col0, #T_b540b_row6_col1, #T_b540b_row6_col2, #T_b540b_row6_col3, #T_b540b_row6_col4, #T_b540b_row6_col5, #T_b540b_row6_col6, #T_b540b_row6_col7, #T_b540b_row7_col0, #T_b540b_row7_col1, #T_b540b_row7_col2, #T_b540b_row7_col3, #T_b540b_row7_col4, #T_b540b_row7_col5, #T_b540b_row7_col6, #T_b540b_row7_col7, #T_b540b_row8_col0, #T_b540b_row8_col1, #T_b540b_row8_col2, #T_b540b_row8_col3, #T_b540b_row8_col4, #T_b540b_row8_col5, #T_b540b_row8_col6, #T_b540b_row8_col7, #T_b540b_row9_col0, #T_b540b_row9_col1, #T_b540b_row9_col2, #T_b540b_row9_col3, #T_b540b_row9_col4, #T_b540b_row9_col5, #T_b540b_row9_col6, #T_b540b_row9_col7, #T_b540b_row10_col0, #T_b540b_row10_col1, #T_b540b_row10_col2, #T_b540b_row10_col3, #T_b540b_row10_col4, #T_b540b_row10_col5, #T_b540b_row10_col6, #T_b540b_row10_col7, #T_b540b_row11_col0, #T_b540b_row11_col1, #T_b540b_row11_col2, #T_b540b_row11_col3, #T_b540b_row11_col4, #T_b540b_row11_col5, #T_b540b_row11_col6, #T_b540b_row11_col7, #T_b540b_row12_col0, #T_b540b_row12_col1, #T_b540b_row12_col2, #T_b540b_row12_col3, #T_b540b_row12_col4, #T_b540b_row12_col5, #T_b540b_row12_col6, #T_b540b_row12_col7, #T_b540b_row13_col0, #T_b540b_row13_col1, #T_b540b_row13_col2, #T_b540b_row13_col3, #T_b540b_row13_col4, #T_b540b_row13_col5, #T_b540b_row13_col6, #T_b540b_row13_col7, #T_b540b_row14_col0, #T_b540b_row14_col1, #T_b540b_row14_col2, #T_b540b_row14_col3, #T_b540b_row14_col4, #T_b540b_row14_col5, #T_b540b_row14_col6, #T_b540b_row14_col7, #T_b540b_row15_col0, #T_b540b_row15_col1, #T_b540b_row15_col2, #T_b540b_row15_col3, #T_b540b_row15_col4, #T_b540b_row15_col5, #T_b540b_row15_col6, #T_b540b_row15_col7 {\n",
       "  text-align: left;\n",
       "}\n",
       "#T_b540b_row0_col1, #T_b540b_row0_col2, #T_b540b_row0_col3, #T_b540b_row0_col4, #T_b540b_row0_col5, #T_b540b_row0_col6, #T_b540b_row0_col7 {\n",
       "  text-align: left;\n",
       "  background-color: yellow;\n",
       "}\n",
       "#T_b540b_row0_col8, #T_b540b_row1_col8, #T_b540b_row2_col8, #T_b540b_row3_col8, #T_b540b_row4_col8, #T_b540b_row5_col8, #T_b540b_row6_col8, #T_b540b_row7_col8, #T_b540b_row8_col8, #T_b540b_row9_col8, #T_b540b_row10_col8, #T_b540b_row12_col8, #T_b540b_row13_col8, #T_b540b_row14_col8, #T_b540b_row15_col8 {\n",
       "  text-align: left;\n",
       "  background-color: lightgrey;\n",
       "}\n",
       "#T_b540b_row11_col8 {\n",
       "  text-align: left;\n",
       "  background-color: yellow;\n",
       "  background-color: lightgrey;\n",
       "}\n",
       "</style>\n",
       "<table id=\"T_b540b\">\n",
       "  <thead>\n",
       "    <tr>\n",
       "      <th class=\"blank level0\" >&nbsp;</th>\n",
       "      <th id=\"T_b540b_level0_col0\" class=\"col_heading level0 col0\" >Model</th>\n",
       "      <th id=\"T_b540b_level0_col1\" class=\"col_heading level0 col1\" >Accuracy</th>\n",
       "      <th id=\"T_b540b_level0_col2\" class=\"col_heading level0 col2\" >AUC</th>\n",
       "      <th id=\"T_b540b_level0_col3\" class=\"col_heading level0 col3\" >Recall</th>\n",
       "      <th id=\"T_b540b_level0_col4\" class=\"col_heading level0 col4\" >Prec.</th>\n",
       "      <th id=\"T_b540b_level0_col5\" class=\"col_heading level0 col5\" >F1</th>\n",
       "      <th id=\"T_b540b_level0_col6\" class=\"col_heading level0 col6\" >Kappa</th>\n",
       "      <th id=\"T_b540b_level0_col7\" class=\"col_heading level0 col7\" >MCC</th>\n",
       "      <th id=\"T_b540b_level0_col8\" class=\"col_heading level0 col8\" >TT (Sec)</th>\n",
       "    </tr>\n",
       "  </thead>\n",
       "  <tbody>\n",
       "    <tr>\n",
       "      <th id=\"T_b540b_level0_row0\" class=\"row_heading level0 row0\" >et</th>\n",
       "      <td id=\"T_b540b_row0_col0\" class=\"data row0 col0\" >Extra Trees Classifier</td>\n",
       "      <td id=\"T_b540b_row0_col1\" class=\"data row0 col1\" >0.7087</td>\n",
       "      <td id=\"T_b540b_row0_col2\" class=\"data row0 col2\" >0.7920</td>\n",
       "      <td id=\"T_b540b_row0_col3\" class=\"data row0 col3\" >0.7087</td>\n",
       "      <td id=\"T_b540b_row0_col4\" class=\"data row0 col4\" >0.6982</td>\n",
       "      <td id=\"T_b540b_row0_col5\" class=\"data row0 col5\" >0.6964</td>\n",
       "      <td id=\"T_b540b_row0_col6\" class=\"data row0 col6\" >0.4111</td>\n",
       "      <td id=\"T_b540b_row0_col7\" class=\"data row0 col7\" >0.4183</td>\n",
       "      <td id=\"T_b540b_row0_col8\" class=\"data row0 col8\" >0.2520</td>\n",
       "    </tr>\n",
       "    <tr>\n",
       "      <th id=\"T_b540b_level0_row1\" class=\"row_heading level0 row1\" >rf</th>\n",
       "      <td id=\"T_b540b_row1_col0\" class=\"data row1 col0\" >Random Forest Classifier</td>\n",
       "      <td id=\"T_b540b_row1_col1\" class=\"data row1 col1\" >0.6692</td>\n",
       "      <td id=\"T_b540b_row1_col2\" class=\"data row1 col2\" >0.7294</td>\n",
       "      <td id=\"T_b540b_row1_col3\" class=\"data row1 col3\" >0.6692</td>\n",
       "      <td id=\"T_b540b_row1_col4\" class=\"data row1 col4\" >0.6565</td>\n",
       "      <td id=\"T_b540b_row1_col5\" class=\"data row1 col5\" >0.6412</td>\n",
       "      <td id=\"T_b540b_row1_col6\" class=\"data row1 col6\" >0.2880</td>\n",
       "      <td id=\"T_b540b_row1_col7\" class=\"data row1 col7\" >0.3042</td>\n",
       "      <td id=\"T_b540b_row1_col8\" class=\"data row1 col8\" >0.2780</td>\n",
       "    </tr>\n",
       "    <tr>\n",
       "      <th id=\"T_b540b_level0_row2\" class=\"row_heading level0 row2\" >xgboost</th>\n",
       "      <td id=\"T_b540b_row2_col0\" class=\"data row2 col0\" >Extreme Gradient Boosting</td>\n",
       "      <td id=\"T_b540b_row2_col1\" class=\"data row2 col1\" >0.6510</td>\n",
       "      <td id=\"T_b540b_row2_col2\" class=\"data row2 col2\" >0.6706</td>\n",
       "      <td id=\"T_b540b_row2_col3\" class=\"data row2 col3\" >0.6510</td>\n",
       "      <td id=\"T_b540b_row2_col4\" class=\"data row2 col4\" >0.6317</td>\n",
       "      <td id=\"T_b540b_row2_col5\" class=\"data row2 col5\" >0.6252</td>\n",
       "      <td id=\"T_b540b_row2_col6\" class=\"data row2 col6\" >0.2669</td>\n",
       "      <td id=\"T_b540b_row2_col7\" class=\"data row2 col7\" >0.2820</td>\n",
       "      <td id=\"T_b540b_row2_col8\" class=\"data row2 col8\" >0.5670</td>\n",
       "    </tr>\n",
       "    <tr>\n",
       "      <th id=\"T_b540b_level0_row3\" class=\"row_heading level0 row3\" >catboost</th>\n",
       "      <td id=\"T_b540b_row3_col0\" class=\"data row3 col0\" >CatBoost Classifier</td>\n",
       "      <td id=\"T_b540b_row3_col1\" class=\"data row3 col1\" >0.6510</td>\n",
       "      <td id=\"T_b540b_row3_col2\" class=\"data row3 col2\" >0.6893</td>\n",
       "      <td id=\"T_b540b_row3_col3\" class=\"data row3 col3\" >0.6510</td>\n",
       "      <td id=\"T_b540b_row3_col4\" class=\"data row3 col4\" >0.6188</td>\n",
       "      <td id=\"T_b540b_row3_col5\" class=\"data row3 col5\" >0.6200</td>\n",
       "      <td id=\"T_b540b_row3_col6\" class=\"data row3 col6\" >0.2488</td>\n",
       "      <td id=\"T_b540b_row3_col7\" class=\"data row3 col7\" >0.2621</td>\n",
       "      <td id=\"T_b540b_row3_col8\" class=\"data row3 col8\" >5.4160</td>\n",
       "    </tr>\n",
       "    <tr>\n",
       "      <th id=\"T_b540b_level0_row4\" class=\"row_heading level0 row4\" >gbc</th>\n",
       "      <td id=\"T_b540b_row4_col0\" class=\"data row4 col0\" >Gradient Boosting Classifier</td>\n",
       "      <td id=\"T_b540b_row4_col1\" class=\"data row4 col1\" >0.6375</td>\n",
       "      <td id=\"T_b540b_row4_col2\" class=\"data row4 col2\" >0.6573</td>\n",
       "      <td id=\"T_b540b_row4_col3\" class=\"data row4 col3\" >0.6375</td>\n",
       "      <td id=\"T_b540b_row4_col4\" class=\"data row4 col4\" >0.6141</td>\n",
       "      <td id=\"T_b540b_row4_col5\" class=\"data row4 col5\" >0.6112</td>\n",
       "      <td id=\"T_b540b_row4_col6\" class=\"data row4 col6\" >0.2378</td>\n",
       "      <td id=\"T_b540b_row4_col7\" class=\"data row4 col7\" >0.2500</td>\n",
       "      <td id=\"T_b540b_row4_col8\" class=\"data row4 col8\" >0.7360</td>\n",
       "    </tr>\n",
       "    <tr>\n",
       "      <th id=\"T_b540b_level0_row5\" class=\"row_heading level0 row5\" >lightgbm</th>\n",
       "      <td id=\"T_b540b_row5_col0\" class=\"data row5 col0\" >Light Gradient Boosting Machine</td>\n",
       "      <td id=\"T_b540b_row5_col1\" class=\"data row5 col1\" >0.6317</td>\n",
       "      <td id=\"T_b540b_row5_col2\" class=\"data row5 col2\" >0.6793</td>\n",
       "      <td id=\"T_b540b_row5_col3\" class=\"data row5 col3\" >0.6317</td>\n",
       "      <td id=\"T_b540b_row5_col4\" class=\"data row5 col4\" >0.6141</td>\n",
       "      <td id=\"T_b540b_row5_col5\" class=\"data row5 col5\" >0.6045</td>\n",
       "      <td id=\"T_b540b_row5_col6\" class=\"data row5 col6\" >0.2346</td>\n",
       "      <td id=\"T_b540b_row5_col7\" class=\"data row5 col7\" >0.2507</td>\n",
       "      <td id=\"T_b540b_row5_col8\" class=\"data row5 col8\" >0.2760</td>\n",
       "    </tr>\n",
       "    <tr>\n",
       "      <th id=\"T_b540b_level0_row6\" class=\"row_heading level0 row6\" >ada</th>\n",
       "      <td id=\"T_b540b_row6_col0\" class=\"data row6 col0\" >Ada Boost Classifier</td>\n",
       "      <td id=\"T_b540b_row6_col1\" class=\"data row6 col1\" >0.5933</td>\n",
       "      <td id=\"T_b540b_row6_col2\" class=\"data row6 col2\" >0.6473</td>\n",
       "      <td id=\"T_b540b_row6_col3\" class=\"data row6 col3\" >0.5933</td>\n",
       "      <td id=\"T_b540b_row6_col4\" class=\"data row6 col4\" >0.5814</td>\n",
       "      <td id=\"T_b540b_row6_col5\" class=\"data row6 col5\" >0.5794</td>\n",
       "      <td id=\"T_b540b_row6_col6\" class=\"data row6 col6\" >0.1981</td>\n",
       "      <td id=\"T_b540b_row6_col7\" class=\"data row6 col7\" >0.2021</td>\n",
       "      <td id=\"T_b540b_row6_col8\" class=\"data row6 col8\" >0.1990</td>\n",
       "    </tr>\n",
       "    <tr>\n",
       "      <th id=\"T_b540b_level0_row7\" class=\"row_heading level0 row7\" >dt</th>\n",
       "      <td id=\"T_b540b_row7_col0\" class=\"data row7 col0\" >Decision Tree Classifier</td>\n",
       "      <td id=\"T_b540b_row7_col1\" class=\"data row7 col1\" >0.5846</td>\n",
       "      <td id=\"T_b540b_row7_col2\" class=\"data row7 col2\" >0.5809</td>\n",
       "      <td id=\"T_b540b_row7_col3\" class=\"data row7 col3\" >0.5846</td>\n",
       "      <td id=\"T_b540b_row7_col4\" class=\"data row7 col4\" >0.5818</td>\n",
       "      <td id=\"T_b540b_row7_col5\" class=\"data row7 col5\" >0.5654</td>\n",
       "      <td id=\"T_b540b_row7_col6\" class=\"data row7 col6\" >0.1820</td>\n",
       "      <td id=\"T_b540b_row7_col7\" class=\"data row7 col7\" >0.1911</td>\n",
       "      <td id=\"T_b540b_row7_col8\" class=\"data row7 col8\" >0.1010</td>\n",
       "    </tr>\n",
       "    <tr>\n",
       "      <th id=\"T_b540b_level0_row8\" class=\"row_heading level0 row8\" >knn</th>\n",
       "      <td id=\"T_b540b_row8_col0\" class=\"data row8 col0\" >K Neighbors Classifier</td>\n",
       "      <td id=\"T_b540b_row8_col1\" class=\"data row8 col1\" >0.5308</td>\n",
       "      <td id=\"T_b540b_row8_col2\" class=\"data row8 col2\" >0.6897</td>\n",
       "      <td id=\"T_b540b_row8_col3\" class=\"data row8 col3\" >0.5308</td>\n",
       "      <td id=\"T_b540b_row8_col4\" class=\"data row8 col4\" >0.6320</td>\n",
       "      <td id=\"T_b540b_row8_col5\" class=\"data row8 col5\" >0.5480</td>\n",
       "      <td id=\"T_b540b_row8_col6\" class=\"data row8 col6\" >0.2633</td>\n",
       "      <td id=\"T_b540b_row8_col7\" class=\"data row8 col7\" >0.2838</td>\n",
       "      <td id=\"T_b540b_row8_col8\" class=\"data row8 col8\" >0.1170</td>\n",
       "    </tr>\n",
       "    <tr>\n",
       "      <th id=\"T_b540b_level0_row9\" class=\"row_heading level0 row9\" >lda</th>\n",
       "      <td id=\"T_b540b_row9_col0\" class=\"data row9 col0\" >Linear Discriminant Analysis</td>\n",
       "      <td id=\"T_b540b_row9_col1\" class=\"data row9 col1\" >0.5096</td>\n",
       "      <td id=\"T_b540b_row9_col2\" class=\"data row9 col2\" >0.6940</td>\n",
       "      <td id=\"T_b540b_row9_col3\" class=\"data row9 col3\" >0.5096</td>\n",
       "      <td id=\"T_b540b_row9_col4\" class=\"data row9 col4\" >0.6049</td>\n",
       "      <td id=\"T_b540b_row9_col5\" class=\"data row9 col5\" >0.5294</td>\n",
       "      <td id=\"T_b540b_row9_col6\" class=\"data row9 col6\" >0.2218</td>\n",
       "      <td id=\"T_b540b_row9_col7\" class=\"data row9 col7\" >0.2375</td>\n",
       "      <td id=\"T_b540b_row9_col8\" class=\"data row9 col8\" >0.0970</td>\n",
       "    </tr>\n",
       "    <tr>\n",
       "      <th id=\"T_b540b_level0_row10\" class=\"row_heading level0 row10\" >lr</th>\n",
       "      <td id=\"T_b540b_row10_col0\" class=\"data row10 col0\" >Logistic Regression</td>\n",
       "      <td id=\"T_b540b_row10_col1\" class=\"data row10 col1\" >0.5077</td>\n",
       "      <td id=\"T_b540b_row10_col2\" class=\"data row10 col2\" >0.6903</td>\n",
       "      <td id=\"T_b540b_row10_col3\" class=\"data row10 col3\" >0.5077</td>\n",
       "      <td id=\"T_b540b_row10_col4\" class=\"data row10 col4\" >0.6245</td>\n",
       "      <td id=\"T_b540b_row10_col5\" class=\"data row10 col5\" >0.5281</td>\n",
       "      <td id=\"T_b540b_row10_col6\" class=\"data row10 col6\" >0.2368</td>\n",
       "      <td id=\"T_b540b_row10_col7\" class=\"data row10 col7\" >0.2586</td>\n",
       "      <td id=\"T_b540b_row10_col8\" class=\"data row10 col8\" >0.3420</td>\n",
       "    </tr>\n",
       "    <tr>\n",
       "      <th id=\"T_b540b_level0_row11\" class=\"row_heading level0 row11\" >ridge</th>\n",
       "      <td id=\"T_b540b_row11_col0\" class=\"data row11 col0\" >Ridge Classifier</td>\n",
       "      <td id=\"T_b540b_row11_col1\" class=\"data row11 col1\" >0.4933</td>\n",
       "      <td id=\"T_b540b_row11_col2\" class=\"data row11 col2\" >0.0000</td>\n",
       "      <td id=\"T_b540b_row11_col3\" class=\"data row11 col3\" >0.4933</td>\n",
       "      <td id=\"T_b540b_row11_col4\" class=\"data row11 col4\" >0.6185</td>\n",
       "      <td id=\"T_b540b_row11_col5\" class=\"data row11 col5\" >0.5119</td>\n",
       "      <td id=\"T_b540b_row11_col6\" class=\"data row11 col6\" >0.2214</td>\n",
       "      <td id=\"T_b540b_row11_col7\" class=\"data row11 col7\" >0.2447</td>\n",
       "      <td id=\"T_b540b_row11_col8\" class=\"data row11 col8\" >0.0700</td>\n",
       "    </tr>\n",
       "    <tr>\n",
       "      <th id=\"T_b540b_level0_row12\" class=\"row_heading level0 row12\" >nb</th>\n",
       "      <td id=\"T_b540b_row12_col0\" class=\"data row12 col0\" >Naive Bayes</td>\n",
       "      <td id=\"T_b540b_row12_col1\" class=\"data row12 col1\" >0.4173</td>\n",
       "      <td id=\"T_b540b_row12_col2\" class=\"data row12 col2\" >0.6700</td>\n",
       "      <td id=\"T_b540b_row12_col3\" class=\"data row12 col3\" >0.4173</td>\n",
       "      <td id=\"T_b540b_row12_col4\" class=\"data row12 col4\" >0.6184</td>\n",
       "      <td id=\"T_b540b_row12_col5\" class=\"data row12 col5\" >0.4017</td>\n",
       "      <td id=\"T_b540b_row12_col6\" class=\"data row12 col6\" >0.1333</td>\n",
       "      <td id=\"T_b540b_row12_col7\" class=\"data row12 col7\" >0.1908</td>\n",
       "      <td id=\"T_b540b_row12_col8\" class=\"data row12 col8\" >0.0840</td>\n",
       "    </tr>\n",
       "    <tr>\n",
       "      <th id=\"T_b540b_level0_row13\" class=\"row_heading level0 row13\" >svm</th>\n",
       "      <td id=\"T_b540b_row13_col0\" class=\"data row13 col0\" >SVM - Linear Kernel</td>\n",
       "      <td id=\"T_b540b_row13_col1\" class=\"data row13 col1\" >0.3798</td>\n",
       "      <td id=\"T_b540b_row13_col2\" class=\"data row13 col2\" >0.0000</td>\n",
       "      <td id=\"T_b540b_row13_col3\" class=\"data row13 col3\" >0.3798</td>\n",
       "      <td id=\"T_b540b_row13_col4\" class=\"data row13 col4\" >0.5005</td>\n",
       "      <td id=\"T_b540b_row13_col5\" class=\"data row13 col5\" >0.3213</td>\n",
       "      <td id=\"T_b540b_row13_col6\" class=\"data row13 col6\" >0.1006</td>\n",
       "      <td id=\"T_b540b_row13_col7\" class=\"data row13 col7\" >0.1418</td>\n",
       "      <td id=\"T_b540b_row13_col8\" class=\"data row13 col8\" >0.0970</td>\n",
       "    </tr>\n",
       "    <tr>\n",
       "      <th id=\"T_b540b_level0_row14\" class=\"row_heading level0 row14\" >qda</th>\n",
       "      <td id=\"T_b540b_row14_col0\" class=\"data row14 col0\" >Quadratic Discriminant Analysis</td>\n",
       "      <td id=\"T_b540b_row14_col1\" class=\"data row14 col1\" >0.2721</td>\n",
       "      <td id=\"T_b540b_row14_col2\" class=\"data row14 col2\" >0.5487</td>\n",
       "      <td id=\"T_b540b_row14_col3\" class=\"data row14 col3\" >0.2721</td>\n",
       "      <td id=\"T_b540b_row14_col4\" class=\"data row14 col4\" >0.5444</td>\n",
       "      <td id=\"T_b540b_row14_col5\" class=\"data row14 col5\" >0.2380</td>\n",
       "      <td id=\"T_b540b_row14_col6\" class=\"data row14 col6\" >0.0391</td>\n",
       "      <td id=\"T_b540b_row14_col7\" class=\"data row14 col7\" >0.0632</td>\n",
       "      <td id=\"T_b540b_row14_col8\" class=\"data row14 col8\" >0.0910</td>\n",
       "    </tr>\n",
       "    <tr>\n",
       "      <th id=\"T_b540b_level0_row15\" class=\"row_heading level0 row15\" >dummy</th>\n",
       "      <td id=\"T_b540b_row15_col0\" class=\"data row15 col0\" >Dummy Classifier</td>\n",
       "      <td id=\"T_b540b_row15_col1\" class=\"data row15 col1\" >0.2231</td>\n",
       "      <td id=\"T_b540b_row15_col2\" class=\"data row15 col2\" >0.5000</td>\n",
       "      <td id=\"T_b540b_row15_col3\" class=\"data row15 col3\" >0.2231</td>\n",
       "      <td id=\"T_b540b_row15_col4\" class=\"data row15 col4\" >0.0498</td>\n",
       "      <td id=\"T_b540b_row15_col5\" class=\"data row15 col5\" >0.0814</td>\n",
       "      <td id=\"T_b540b_row15_col6\" class=\"data row15 col6\" >0.0000</td>\n",
       "      <td id=\"T_b540b_row15_col7\" class=\"data row15 col7\" >0.0000</td>\n",
       "      <td id=\"T_b540b_row15_col8\" class=\"data row15 col8\" >0.0990</td>\n",
       "    </tr>\n",
       "  </tbody>\n",
       "</table>\n"
      ],
      "text/plain": [
       "<pandas.io.formats.style.Styler at 0x2041b0660d0>"
      ]
     },
     "metadata": {},
     "output_type": "display_data"
    },
    {
     "data": {
      "application/vnd.jupyter.widget-view+json": {
       "model_id": "",
       "version_major": 2,
       "version_minor": 0
      },
      "text/plain": [
       "Processing:   0%|          | 0/69 [00:00<?, ?it/s]"
      ]
     },
     "metadata": {},
     "output_type": "display_data"
    }
   ],
   "source": [
    "# functional API\n",
    "best = compare_models()\n",
    "\n",
    "# OOP API\n",
    "best = s.compare_models()"
   ]
  },
  {
   "cell_type": "code",
   "execution_count": 67,
   "id": "84311bbb",
   "metadata": {},
   "outputs": [
    {
     "name": "stdout",
     "output_type": "stream",
     "text": [
      "ExtraTreesClassifier(bootstrap=False, ccp_alpha=0.0, class_weight=None,\n",
      "                     criterion='gini', max_depth=None, max_features='sqrt',\n",
      "                     max_leaf_nodes=None, max_samples=None,\n",
      "                     min_impurity_decrease=0.0, min_samples_leaf=1,\n",
      "                     min_samples_split=2, min_weight_fraction_leaf=0.0,\n",
      "                     n_estimators=100, n_jobs=-1, oob_score=False,\n",
      "                     random_state=123, verbose=0, warm_start=False)\n"
     ]
    }
   ],
   "source": [
    "# Print the best Model\n",
    "print(best)"
   ]
  },
  {
   "cell_type": "markdown",
   "id": "8a56a8f8",
   "metadata": {},
   "source": [
    "# Analyze Model\n",
    "This function analyzes the performance of a trained model on the test set. It may require re-training the model in certain cases"
   ]
  },
  {
   "cell_type": "code",
   "execution_count": 68,
   "id": "e63cc3e3",
   "metadata": {},
   "outputs": [
    {
     "data": {
      "application/vnd.jupyter.widget-view+json": {
       "model_id": "0aa5ed46f8bc4e8abcad2618213f5ca3",
       "version_major": 2,
       "version_minor": 0
      },
      "text/plain": [
       "interactive(children=(ToggleButtons(description='Plot Type:', icons=('',), options=(('Pipeline Plot', 'pipelin…"
      ]
     },
     "metadata": {},
     "output_type": "display_data"
    },
    {
     "data": {
      "application/vnd.jupyter.widget-view+json": {
       "model_id": "64eb0a6763c44430bb0733ad4f4e2303",
       "version_major": 2,
       "version_minor": 0
      },
      "text/plain": [
       "interactive(children=(ToggleButtons(description='Plot Type:', icons=('',), options=(('Pipeline Plot', 'pipelin…"
      ]
     },
     "metadata": {},
     "output_type": "display_data"
    }
   ],
   "source": [
    "# functional API\n",
    "evaluate_model(best)\n",
    "\n",
    "# OOP API\n",
    "s.evaluate_model(best)"
   ]
  },
  {
   "cell_type": "markdown",
   "id": "8d78383f",
   "metadata": {},
   "source": [
    "evaluate_model can only be used in Notebook since it uses ipywidget . You can also use the plot_model function to generate plots individually."
   ]
  },
  {
   "cell_type": "code",
   "execution_count": 69,
   "id": "a0217e6d",
   "metadata": {},
   "outputs": [
    {
     "data": {
      "text/html": [],
      "text/plain": [
       "<IPython.core.display.HTML object>"
      ]
     },
     "metadata": {},
     "output_type": "display_data"
    },
    {
     "data": {
      "image/png": "[encoded data removed]",
      "text/plain": [
       "<Figure size 432x288 with 1 Axes>"
      ]
     },
     "metadata": {
      "needs_background": "light"
     },
     "output_type": "display_data"
    },
    {
     "data": {
      "text/html": [],
      "text/plain": [
       "<IPython.core.display.HTML object>"
      ]
     },
     "metadata": {},
     "output_type": "display_data"
    },
    {
     "data": {
      "image/png": "[encoded data removed]",
      "text/plain": [
       "<Figure size 432x288 with 1 Axes>"
      ]
     },
     "metadata": {
      "needs_background": "light"
     },
     "output_type": "display_data"
    }
   ],
   "source": [
    "# functional API\n",
    "plot_model(best, plot = 'auc')\n",
    "\n",
    "# OOP API\n",
    "s.plot_model(best, plot = 'auc')"
   ]
  },
  {
   "cell_type": "markdown",
   "id": "05645413",
   "metadata": {},
   "source": [
    "# Predictions\n",
    "This function scores the data and returns prediction_label and prediction_score probability of the predicted class). When data is None, it predicts label and score on the test set (created during the setup function)."
   ]
  },
  {
   "cell_type": "code",
   "execution_count": 70,
   "id": "ad769ee8",
   "metadata": {},
   "outputs": [
    {
     "data": {
      "text/html": [
       "<style type=\"text/css\">\n",
       "</style>\n",
       "<table id=\"T_d5ff5\">\n",
       "  <thead>\n",
       "    <tr>\n",
       "      <th class=\"blank level0\" >&nbsp;</th>\n",
       "      <th id=\"T_d5ff5_level0_col0\" class=\"col_heading level0 col0\" >Model</th>\n",
       "      <th id=\"T_d5ff5_level0_col1\" class=\"col_heading level0 col1\" >Accuracy</th>\n",
       "      <th id=\"T_d5ff5_level0_col2\" class=\"col_heading level0 col2\" >AUC</th>\n",
       "      <th id=\"T_d5ff5_level0_col3\" class=\"col_heading level0 col3\" >Recall</th>\n",
       "      <th id=\"T_d5ff5_level0_col4\" class=\"col_heading level0 col4\" >Prec.</th>\n",
       "      <th id=\"T_d5ff5_level0_col5\" class=\"col_heading level0 col5\" >F1</th>\n",
       "      <th id=\"T_d5ff5_level0_col6\" class=\"col_heading level0 col6\" >Kappa</th>\n",
       "      <th id=\"T_d5ff5_level0_col7\" class=\"col_heading level0 col7\" >MCC</th>\n",
       "    </tr>\n",
       "  </thead>\n",
       "  <tbody>\n",
       "    <tr>\n",
       "      <th id=\"T_d5ff5_level0_row0\" class=\"row_heading level0 row0\" >0</th>\n",
       "      <td id=\"T_d5ff5_row0_col0\" class=\"data row0 col0\" >Extra Trees Classifier</td>\n",
       "      <td id=\"T_d5ff5_row0_col1\" class=\"data row0 col1\" >0.7271</td>\n",
       "      <td id=\"T_d5ff5_row0_col2\" class=\"data row0 col2\" >0.8092</td>\n",
       "      <td id=\"T_d5ff5_row0_col3\" class=\"data row0 col3\" >0</td>\n",
       "      <td id=\"T_d5ff5_row0_col4\" class=\"data row0 col4\" >0</td>\n",
       "      <td id=\"T_d5ff5_row0_col5\" class=\"data row0 col5\" >0</td>\n",
       "      <td id=\"T_d5ff5_row0_col6\" class=\"data row0 col6\" >0.4798</td>\n",
       "      <td id=\"T_d5ff5_row0_col7\" class=\"data row0 col7\" >0.4801</td>\n",
       "    </tr>\n",
       "  </tbody>\n",
       "</table>\n"
      ],
      "text/plain": [
       "<pandas.io.formats.style.Styler at 0x20418b9cfa0>"
      ]
     },
     "metadata": {},
     "output_type": "display_data"
    },
    {
     "data": {
      "text/html": [
       "<style type=\"text/css\">\n",
       "</style>\n",
       "<table id=\"T_73055\">\n",
       "  <thead>\n",
       "    <tr>\n",
       "      <th class=\"blank level0\" >&nbsp;</th>\n",
       "      <th id=\"T_73055_level0_col0\" class=\"col_heading level0 col0\" >Model</th>\n",
       "      <th id=\"T_73055_level0_col1\" class=\"col_heading level0 col1\" >Accuracy</th>\n",
       "      <th id=\"T_73055_level0_col2\" class=\"col_heading level0 col2\" >AUC</th>\n",
       "      <th id=\"T_73055_level0_col3\" class=\"col_heading level0 col3\" >Recall</th>\n",
       "      <th id=\"T_73055_level0_col4\" class=\"col_heading level0 col4\" >Prec.</th>\n",
       "      <th id=\"T_73055_level0_col5\" class=\"col_heading level0 col5\" >F1</th>\n",
       "      <th id=\"T_73055_level0_col6\" class=\"col_heading level0 col6\" >Kappa</th>\n",
       "      <th id=\"T_73055_level0_col7\" class=\"col_heading level0 col7\" >MCC</th>\n",
       "    </tr>\n",
       "  </thead>\n",
       "  <tbody>\n",
       "    <tr>\n",
       "      <th id=\"T_73055_level0_row0\" class=\"row_heading level0 row0\" >0</th>\n",
       "      <td id=\"T_73055_row0_col0\" class=\"data row0 col0\" >Extra Trees Classifier</td>\n",
       "      <td id=\"T_73055_row0_col1\" class=\"data row0 col1\" >0.7271</td>\n",
       "      <td id=\"T_73055_row0_col2\" class=\"data row0 col2\" >0.8092</td>\n",
       "      <td id=\"T_73055_row0_col3\" class=\"data row0 col3\" >0</td>\n",
       "      <td id=\"T_73055_row0_col4\" class=\"data row0 col4\" >0</td>\n",
       "      <td id=\"T_73055_row0_col5\" class=\"data row0 col5\" >0</td>\n",
       "      <td id=\"T_73055_row0_col6\" class=\"data row0 col6\" >0.4798</td>\n",
       "      <td id=\"T_73055_row0_col7\" class=\"data row0 col7\" >0.4801</td>\n",
       "    </tr>\n",
       "  </tbody>\n",
       "</table>\n"
      ],
      "text/plain": [
       "<pandas.io.formats.style.Styler at 0x2041d036b20>"
      ]
     },
     "metadata": {},
     "output_type": "display_data"
    },
    {
     "data": {
      "text/html": [
       "<div>\n",
       "<style scoped>\n",
       "    .dataframe tbody tr th:only-of-type {\n",
       "        vertical-align: middle;\n",
       "    }\n",
       "\n",
       "    .dataframe tbody tr th {\n",
       "        vertical-align: top;\n",
       "    }\n",
       "\n",
       "    .dataframe thead th {\n",
       "        text-align: right;\n",
       "    }\n",
       "</style>\n",
       "<table border=\"1\" class=\"dataframe\">\n",
       "  <thead>\n",
       "    <tr style=\"text-align: right;\">\n",
       "      <th></th>\n",
       "      <th>sex</th>\n",
       "      <th>Age</th>\n",
       "      <th>Location</th>\n",
       "      <th>Frequency of clinic visit</th>\n",
       "      <th>Education_no</th>\n",
       "      <th>Education_yes</th>\n",
       "      <th>Education_Refused</th>\n",
       "      <th>Weight</th>\n",
       "      <th>BMI</th>\n",
       "      <th>BP Diastolic</th>\n",
       "      <th>BP Systolic</th>\n",
       "      <th>Diagnosis</th>\n",
       "      <th>prediction_label</th>\n",
       "      <th>prediction_score</th>\n",
       "    </tr>\n",
       "  </thead>\n",
       "  <tbody>\n",
       "    <tr>\n",
       "      <th>1040</th>\n",
       "      <td>1.0</td>\n",
       "      <td>79.0</td>\n",
       "      <td>0.695652</td>\n",
       "      <td>0.0</td>\n",
       "      <td>0.0</td>\n",
       "      <td>1.0</td>\n",
       "      <td>0.0</td>\n",
       "      <td>69.0</td>\n",
       "      <td>27.990000</td>\n",
       "      <td>63.0</td>\n",
       "      <td>107.0</td>\n",
       "      <td>HTN</td>\n",
       "      <td>HTN</td>\n",
       "      <td>0.54</td>\n",
       "    </tr>\n",
       "    <tr>\n",
       "      <th>1041</th>\n",
       "      <td>0.0</td>\n",
       "      <td>72.0</td>\n",
       "      <td>0.951271</td>\n",
       "      <td>0.0</td>\n",
       "      <td>1.0</td>\n",
       "      <td>0.0</td>\n",
       "      <td>0.0</td>\n",
       "      <td>72.0</td>\n",
       "      <td>26.760000</td>\n",
       "      <td>81.0</td>\n",
       "      <td>145.0</td>\n",
       "      <td>HTN,DM</td>\n",
       "      <td>HTN,DM</td>\n",
       "      <td>0.97</td>\n",
       "    </tr>\n",
       "    <tr>\n",
       "      <th>1042</th>\n",
       "      <td>0.0</td>\n",
       "      <td>91.0</td>\n",
       "      <td>0.951271</td>\n",
       "      <td>0.0</td>\n",
       "      <td>1.0</td>\n",
       "      <td>0.0</td>\n",
       "      <td>0.0</td>\n",
       "      <td>49.0</td>\n",
       "      <td>21.200001</td>\n",
       "      <td>109.0</td>\n",
       "      <td>189.0</td>\n",
       "      <td>HTN</td>\n",
       "      <td>HTN</td>\n",
       "      <td>0.94</td>\n",
       "    </tr>\n",
       "    <tr>\n",
       "      <th>1043</th>\n",
       "      <td>0.0</td>\n",
       "      <td>64.0</td>\n",
       "      <td>0.695652</td>\n",
       "      <td>0.0</td>\n",
       "      <td>0.0</td>\n",
       "      <td>1.0</td>\n",
       "      <td>0.0</td>\n",
       "      <td>62.0</td>\n",
       "      <td>24.209999</td>\n",
       "      <td>88.0</td>\n",
       "      <td>159.0</td>\n",
       "      <td>HTN</td>\n",
       "      <td>DM</td>\n",
       "      <td>0.38</td>\n",
       "    </tr>\n",
       "    <tr>\n",
       "      <th>1044</th>\n",
       "      <td>0.0</td>\n",
       "      <td>62.0</td>\n",
       "      <td>0.921154</td>\n",
       "      <td>0.0</td>\n",
       "      <td>0.0</td>\n",
       "      <td>1.0</td>\n",
       "      <td>0.0</td>\n",
       "      <td>80.0</td>\n",
       "      <td>31.240000</td>\n",
       "      <td>80.0</td>\n",
       "      <td>113.0</td>\n",
       "      <td>HTN</td>\n",
       "      <td>DM</td>\n",
       "      <td>0.62</td>\n",
       "    </tr>\n",
       "    <tr>\n",
       "      <th>...</th>\n",
       "      <td>...</td>\n",
       "      <td>...</td>\n",
       "      <td>...</td>\n",
       "      <td>...</td>\n",
       "      <td>...</td>\n",
       "      <td>...</td>\n",
       "      <td>...</td>\n",
       "      <td>...</td>\n",
       "      <td>...</td>\n",
       "      <td>...</td>\n",
       "      <td>...</td>\n",
       "      <td>...</td>\n",
       "      <td>...</td>\n",
       "      <td>...</td>\n",
       "    </tr>\n",
       "    <tr>\n",
       "      <th>1482</th>\n",
       "      <td>1.0</td>\n",
       "      <td>62.0</td>\n",
       "      <td>0.840909</td>\n",
       "      <td>0.0</td>\n",
       "      <td>0.0</td>\n",
       "      <td>1.0</td>\n",
       "      <td>0.0</td>\n",
       "      <td>64.0</td>\n",
       "      <td>20.889999</td>\n",
       "      <td>64.0</td>\n",
       "      <td>103.0</td>\n",
       "      <td>DM</td>\n",
       "      <td>DM</td>\n",
       "      <td>0.50</td>\n",
       "    </tr>\n",
       "    <tr>\n",
       "      <th>1483</th>\n",
       "      <td>1.0</td>\n",
       "      <td>81.0</td>\n",
       "      <td>0.951271</td>\n",
       "      <td>0.0</td>\n",
       "      <td>0.0</td>\n",
       "      <td>1.0</td>\n",
       "      <td>0.0</td>\n",
       "      <td>65.0</td>\n",
       "      <td>26.370001</td>\n",
       "      <td>89.0</td>\n",
       "      <td>194.0</td>\n",
       "      <td>HTN</td>\n",
       "      <td>HTN</td>\n",
       "      <td>0.94</td>\n",
       "    </tr>\n",
       "    <tr>\n",
       "      <th>1484</th>\n",
       "      <td>1.0</td>\n",
       "      <td>78.0</td>\n",
       "      <td>0.921154</td>\n",
       "      <td>0.0</td>\n",
       "      <td>0.0</td>\n",
       "      <td>1.0</td>\n",
       "      <td>0.0</td>\n",
       "      <td>55.0</td>\n",
       "      <td>18.799999</td>\n",
       "      <td>80.0</td>\n",
       "      <td>137.0</td>\n",
       "      <td>HTN</td>\n",
       "      <td>HTN</td>\n",
       "      <td>0.66</td>\n",
       "    </tr>\n",
       "    <tr>\n",
       "      <th>1485</th>\n",
       "      <td>0.0</td>\n",
       "      <td>85.0</td>\n",
       "      <td>0.921154</td>\n",
       "      <td>0.0</td>\n",
       "      <td>0.0</td>\n",
       "      <td>1.0</td>\n",
       "      <td>0.0</td>\n",
       "      <td>105.0</td>\n",
       "      <td>37.639999</td>\n",
       "      <td>86.0</td>\n",
       "      <td>146.0</td>\n",
       "      <td>HTN</td>\n",
       "      <td>HTN</td>\n",
       "      <td>0.68</td>\n",
       "    </tr>\n",
       "    <tr>\n",
       "      <th>1486</th>\n",
       "      <td>0.0</td>\n",
       "      <td>51.0</td>\n",
       "      <td>1.044248</td>\n",
       "      <td>0.0</td>\n",
       "      <td>0.0</td>\n",
       "      <td>1.0</td>\n",
       "      <td>0.0</td>\n",
       "      <td>56.0</td>\n",
       "      <td>21.330000</td>\n",
       "      <td>86.0</td>\n",
       "      <td>135.0</td>\n",
       "      <td>HTN</td>\n",
       "      <td>HTN</td>\n",
       "      <td>0.56</td>\n",
       "    </tr>\n",
       "  </tbody>\n",
       "</table>\n",
       "<p>447 rows × 14 columns</p>\n",
       "</div>"
      ],
      "text/plain": [
       "      sex   Age  Location  Frequency of clinic visit  Education_no  \\\n",
       "1040  1.0  79.0  0.695652                        0.0           0.0   \n",
       "1041  0.0  72.0  0.951271                        0.0           1.0   \n",
       "1042  0.0  91.0  0.951271                        0.0           1.0   \n",
       "1043  0.0  64.0  0.695652                        0.0           0.0   \n",
       "1044  0.0  62.0  0.921154                        0.0           0.0   \n",
       "...   ...   ...       ...                        ...           ...   \n",
       "1482  1.0  62.0  0.840909                        0.0           0.0   \n",
       "1483  1.0  81.0  0.951271                        0.0           0.0   \n",
       "1484  1.0  78.0  0.921154                        0.0           0.0   \n",
       "1485  0.0  85.0  0.921154                        0.0           0.0   \n",
       "1486  0.0  51.0  1.044248                        0.0           0.0   \n",
       "\n",
       "      Education_yes  Education_Refused  Weight        BMI  BP Diastolic  \\\n",
       "1040            1.0                0.0    69.0  27.990000          63.0   \n",
       "1041            0.0                0.0    72.0  26.760000          81.0   \n",
       "1042            0.0                0.0    49.0  21.200001         109.0   \n",
       "1043            1.0                0.0    62.0  24.209999          88.0   \n",
       "1044            1.0                0.0    80.0  31.240000          80.0   \n",
       "...             ...                ...     ...        ...           ...   \n",
       "1482            1.0                0.0    64.0  20.889999          64.0   \n",
       "1483            1.0                0.0    65.0  26.370001          89.0   \n",
       "1484            1.0                0.0    55.0  18.799999          80.0   \n",
       "1485            1.0                0.0   105.0  37.639999          86.0   \n",
       "1486            1.0                0.0    56.0  21.330000          86.0   \n",
       "\n",
       "      BP Systolic Diagnosis prediction_label  prediction_score  \n",
       "1040        107.0       HTN              HTN              0.54  \n",
       "1041        145.0    HTN,DM           HTN,DM              0.97  \n",
       "1042        189.0       HTN              HTN              0.94  \n",
       "1043        159.0       HTN               DM              0.38  \n",
       "1044        113.0       HTN               DM              0.62  \n",
       "...           ...       ...              ...               ...  \n",
       "1482        103.0        DM               DM              0.50  \n",
       "1483        194.0       HTN              HTN              0.94  \n",
       "1484        137.0       HTN              HTN              0.66  \n",
       "1485        146.0       HTN              HTN              0.68  \n",
       "1486        135.0       HTN              HTN              0.56  \n",
       "\n",
       "[447 rows x 14 columns]"
      ]
     },
     "execution_count": 70,
     "metadata": {},
     "output_type": "execute_result"
    }
   ],
   "source": [
    "# functional API\n",
    "predict_model(best)\n",
    "\n",
    "# OOP API\n",
    "s.predict_model(best)"
   ]
  }
 ],
 "metadata": {
  "kernelspec": {
   "display_name": "Python 3 (ipykernel)",
   "language": "python",
   "name": "python3"
  },
  "language_info": {
   "codemirror_mode": {
    "name": "ipython",
    "version": 3
   },
   "file_extension": ".py",
   "mimetype": "text/x-python",
   "name": "python",
   "nbconvert_exporter": "python",
   "pygments_lexer": "ipython3",
   "version": "3.9.12"
  }
 },
 "nbformat": 4,
 "nbformat_minor": 5
}
